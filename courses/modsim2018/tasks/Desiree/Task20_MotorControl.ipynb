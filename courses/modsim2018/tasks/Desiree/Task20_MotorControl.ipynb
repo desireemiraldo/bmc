{
 "cells": [
  {
   "cell_type": "markdown",
   "metadata": {},
   "source": [
    "## Task 20 - Motor Control\n",
    "### Introduction to modeling and simulation of human movement\n",
    "https://github.com/BMClab/bmc/blob/master/courses/ModSim2018.md"
   ]
  },
  {
   "cell_type": "markdown",
   "metadata": {},
   "source": [
    "Desiree Miraldo\n",
    "\n",
    "* Task (for Lecture 20):\n",
    "\n",
    "Solve problemas 3 and 4 of the notebook [Optimization (Marcos Duarte)](http://nbviewer.jupyter.org/github/BMClab/bmc/blob/master/notebooks/Optimization.ipynb)."
   ]
  },
  {
   "cell_type": "code",
   "execution_count": 1,
   "metadata": {
    "collapsed": true
   },
   "outputs": [],
   "source": [
    "# import Python libraries\n",
    "import numpy as np\n",
    "%matplotlib inline\n",
    "import matplotlib\n",
    "import matplotlib.pyplot as plt\n",
    "import sympy as sym\n",
    "from sympy.plotting import plot\n",
    "import pandas as pd\n",
    "from IPython.display import display\n",
    "from IPython.core.display import Math"
   ]
  },
  {
   "cell_type": "markdown",
   "metadata": {},
   "source": [
    "## Exercises\n",
    "\n",
    "1. Find the extrema in the function $f(x)=x^3-7.5x^2+18x-10$ analytically and determine if they are minimum or maximum.  \n",
    "2. Find the minimum in the $f(x)=x^3-7.5x^2+18x-10$ using the gradient descent algorithm.  \n",
    "2. Regarding the distribution problem for the elbow muscles presented in this text:  \n",
    "    a. Test different initial values for the optimization.  \n",
    "    b. Test other values for the elbow angle where the results are likely to change.   \n",
    "    \n",
    "3. In an experiment to estimate forces of the elbow flexors, through inverse dynamics it was found an elbow flexor moment of 10 Nm.  \n",
    "Consider the following data for maximum force (F0), moment arm (r), and pcsa (A) of the brachialis, brachioradialis, and biceps brachii muscles: F0 (N): 1000, 250, 700; r (cm): 2, 5, 4; A (cm$^2$): 33, 8, 23, respectively (data from Robertson et al. (2013)).  \n",
    "    a. Use static optimization to estimate the muscle forces.  \n",
    "    b. Test the robustness of the results using different initial values for the muscle forces.  \n",
    "    c. Compare the results for different cost functions."
   ]
  },
  {
   "cell_type": "markdown",
   "metadata": {},
   "source": [
    ">##### The distribution problem in biomechanics\n",
    "\n",
    ">Using the inverse dynamics approach in biomechanics, we can determine the net force and torque acting on a joint if we know the external forces on the segments and the kinematics and inertial properties of the segments. But with this approach we are unable to determine the individual muscles forces that  created such torque, as expressed in the following equation:\n",
    "\n",
    ">\\begin{equation}\n",
    "M_{total} = M_1 + M_2 + \\dots + M_n = r_1F_1 + r_2F_2 + \\dots + r_nF_n\n",
    "\\label{}\n",
    "\\end{equation}\n",
    "\n",
    ">where $r_i$ is the moment arm of the force $F_i$ that generates a torque $M_i$, a parcel of the (known) total torque $M_{total}$.  \n",
    "\n",
    ">Even if we know the moment arm of each muscle (e.g., from cadaveric data or from image analysis), the equation above has $n$ unknowns. Because there is more than one muscle that potentially created such torque, there are more unknowns than equations, and the problem is undetermined. So, the problem is how to find how the torque is distributed among the muscles of that joint.\n",
    "\n",
    ">One solution is to consider that we (biological systems) optimize our effort in order to minimize energy expenditure, stresses on our tissues, fatigue, etc. The principle of least action, stated in the opening of this text, is an allusion that optimization might be ubiquitous in nature. With this rationale, let's solve the distribution problem in biomechanics using optimization and find the minimum force of each muscle necessary to complete a given task.\n",
    "\n",
    ">The following cost functions have been proposed to solve the distribution problem in biomechanics:\n",
    "\n",
    ">\\begin{equation}\n",
    "\\begin{array}{l l}\n",
    "\\displaystyle\\sum_{i=1}^N F_i \\quad &\\text{e.g., Seireg and Arkivar (1973)}\n",
    "\\\\\n",
    "\\displaystyle\\sum_{i=1}^N F_i^2 \\quad &\n",
    "\\\\\n",
    "\\displaystyle\\sum_{i=1}^N \\left(\\dfrac{F_i}{pcsa_i}\\right)^2 \\quad &\\text{e.g., Crowninshield and Brand (1981)}\n",
    "\\\\\n",
    "\\displaystyle\\sum_{i=1}^N \\left(\\dfrac{F_i}{M_{max,i}}\\right)^3 \\quad &\\text{e.g., Herzog (1987)}\n",
    "\\end{array}\n",
    "\\label{}\n",
    "\\end{equation}\n",
    "\n",
    ">Where $pcsa_i$ is the physiological cross-sectional area of muscle $i$ and $M_{max,i}$ is the maximum torque muscle $i$ can produce.  \n",
    "Each muscle force $F_i$ is a design variable and the following constraints must be satisfied:\n",
    "\n",
    ">\\begin{equation}\n",
    "\\begin{array}{l l}\n",
    "0 \\leq F_i \\leq F_{max}\n",
    "\\\\\n",
    "\\displaystyle\\sum_{i=1}^N r_i \\times F_i = M\n",
    "\\end{array}\n",
    "\\label{}\n",
    "\\end{equation}\n",
    "\n",
    ">Let's apply this concept to solve a distribution problem in biomechanics."
   ]
  },
  {
   "cell_type": "markdown",
   "metadata": {},
   "source": [
    ">##### Muscle force estimation\n",
    "\n",
    ">Consider the following main flexors of the elbow joint (see figure below): biceps long head, biceps short head, and brachialis. Suppose that the elbow net joint torque determined using inverse dynamics is 20 Nm (flexor). How much each of these muscles contributed to the net torque?\n",
    "\n",
    "><div class='center-align'><figure><img src='./filesLecture20/elbowflexors.png' alt='Elbow flexors'/> <figcaption><center><i>Figure. A view in OpenSim of the arm26 model showing three elbow flexors (Biceps long and short heads and Brachialis).</i></center></figcaption> </figure></div>\n",
    "\n",
    ">For the optimization, we will need experimental data for the moment arm, maximum moment, and *pcsa* of each muscle. Let's import these data from the OpenSim arm26 model:\n"
   ]
  },
  {
   "cell_type": "code",
   "execution_count": 2,
   "metadata": {},
   "outputs": [],
   "source": [
    "# time elbow_flexion BIClong BICshort BRA\n",
    "r_ef = np.loadtxt('./filesLecture20/r_elbowflexors.mot', skiprows=7)\n",
    "f_ef = np.loadtxt('./filesLecture20/f_elbowflexors.mot', skiprows=7)"
   ]
  },
  {
   "cell_type": "markdown",
   "metadata": {},
   "source": [
    ">The maximum isometric force of these muscles are defined in the arm26 model as: Biceps long head: 624.3 N, Biceps short head: 435.56 N, and Brachialis: 987.26 N. Let's compute the mamimum torques that each muscle could produce considering a static situation at the different elbow flexion angles:"
   ]
  },
  {
   "cell_type": "code",
   "execution_count": 3,
   "metadata": {
    "collapsed": true
   },
   "outputs": [],
   "source": [
    "m_ef = r_ef*1\n",
    "m_ef[:, 2:] = r_ef[:, 2:]*f_ef[:, 2:]"
   ]
  },
  {
   "cell_type": "markdown",
   "metadata": {},
   "source": [
    ">And let's visualize these data:"
   ]
  },
  {
   "cell_type": "code",
   "execution_count": 4,
   "metadata": {},
   "outputs": [
    {
     "data": {
      "image/png": "[encoded data removed]",
      "text/plain": [
       "<matplotlib.figure.Figure at 0x253165454e0>"
      ]
     },
     "metadata": {},
     "output_type": "display_data"
    }
   ],
   "source": [
    "labels = ['Biceps long head', 'Biceps short head', 'Brachialis']\n",
    "fig, ax = plt.subplots(nrows=1, ncols=3, sharex=True, figsize=(10, 4))\n",
    "ax[0].plot(r_ef[:, 1], r_ef[:, 2:])\n",
    "#ax[0].set_xlabel('Elbow angle $(\\,^o)$')\n",
    "ax[0].set_title('Moment arm (m)')\n",
    "ax[1].plot(f_ef[:, 1], f_ef[:, 2:])\n",
    "ax[1].set_xlabel('Elbow angle $(\\,^o)$', fontsize=16)\n",
    "ax[1].set_title('Maximum force (N)')\n",
    "ax[2].plot(m_ef[:, 1], m_ef[:, 2:])\n",
    "#ax[2].set_xlabel('Elbow angle $(\\,^o)$')\n",
    "ax[2].set_title('Maximum torque (Nm)')\n",
    "ax[2].legend(labels, loc='best', framealpha=.5)\n",
    "ax[2].set_xlim(np.min(r_ef[:, 1]), np.max(r_ef[:, 1]))\n",
    "plt.tight_layout()\n",
    "plt.show()"
   ]
  },
  {
   "cell_type": "markdown",
   "metadata": {},
   "source": [
    ">These data don't have the *pcsa* value of each muscle. We will estimate the *pcsa* considering that the amount of maximum muscle force generated per area is constant and equal to 50N/cm$^2$. Consequently, the *pcsa* (in cm$^2$) for each muscle is:"
   ]
  },
  {
   "cell_type": "code",
   "execution_count": 5,
   "metadata": {},
   "outputs": [
    {
     "name": "stdout",
     "output_type": "stream",
     "text": [
      "[ 12.486    8.7112  19.7452]\n"
     ]
    }
   ],
   "source": [
    "a_ef = np.array([624.3, 435.56, 987.26])/50  # 50 N/cm2\n",
    "print(a_ef)"
   ]
  },
  {
   "cell_type": "markdown",
   "metadata": {},
   "source": [
    ">##### Static versus dynamic optimization\n",
    "\n",
    ">In the context of biomechanics, we can solve the distribution problem separately for each angle (instant) of the elbow; we will refer to that as static optimization. However, there is no guarantee that when we analyze all these solutions across the range of angles, they will be the best solution overall. One reason is that static optimization ignores the time history of the muscle force. Dynamic optimization refers to the optimization over a period of time. For such, we will need to input a cost function spanning the entire period of time at once. Dynamic optimization usually has a higher computational cost than static optimization. The term 'Dynamic optimization' used in Biomechanics is not related to the broader method known as '[dynamic programming](https://en.wikipedia.org/wiki/Dynamic_programming)' in mathematical optimization or computer programming.\n",
    "\n",
    "><div class='center-align'><figure><img src='./filesLecture20/optim_stat_dyn.png' width=550 alt='static versus dynamic optimization' vspace=\"10\"/> <figcaption><center><i>Figure. Static and dynamic optimization approaches in Biomechanics. Figure taken from Robertson et al. (2013).</i></center></figcaption> </figure></div>\n",
    "\n",
    ">The title 'Static and dynamic optimization solutions for gait are practically equivalent' of an article published by Anderson and Pandy (2001), where they studied normal walking (full gait cycle equals to 1.12 s), summarizes the results of such comparison. The authors reported that the dynamic solution required 1000 times more computation time than the static solution.\n",
    "\n",
    ">For now, we will solve the present problem using static optimization."
   ]
  },
  {
   "cell_type": "markdown",
   "metadata": {},
   "source": [
    ">##### Solution of the optimization problem\n",
    "\n",
    ">For the present case, we are dealing with a problem of minimization, multidimensional (function of several variables), nonlinear, constrained, and we can't assume that the cost function is convex. Numerical optimization is hardly a simple task. There are many different algorithms and public and commercial software for performing optimization. For instance, look at [NEOS Server](http://www.neos-server.org/neos/), a free internet-based service for solving numerical optimization problems.  \n",
    "We will solve the present problem using the [scipy.optimize](http://docs.scipy.org/doc/scipy/reference/optimize.html#module-scipy.optimize) package which provides several optimization algorithms. We will use the function `minimize`:\n",
    "\n",
    ">```python\n",
    "scipy.optimize.minimize(fun, x0, args=(), method=None, jac=None, hess=None, hessp=None, bounds=None, constraints=(), tol=None, callback=None, options=None)\n",
    "\"\"\"Minimization of scalar function of one or more variables.\"\"\"\n",
    "```\n",
    "\n",
    ">Now, let's write Python functions for each cost function:"
   ]
  },
  {
   "cell_type": "code",
   "execution_count": 6,
   "metadata": {
    "collapsed": true
   },
   "outputs": [],
   "source": [
    "from scipy.optimize import minimize"
   ]
  },
  {
   "cell_type": "code",
   "execution_count": 7,
   "metadata": {
    "collapsed": true
   },
   "outputs": [],
   "source": [
    "def cf_f1(x):\n",
    "    \"\"\"Cost function: sum of forces.\"\"\"  \n",
    "    return x[0] + x[1] + x[2]\n",
    "\n",
    "def cf_f2(x):\n",
    "    \"\"\"Cost function: sum of forces squared.\"\"\"\n",
    "    return x[0]**2 + x[1]**2 + x[2]**2\n",
    "\n",
    "def cf_fpcsa2(x, a):\n",
    "    \"\"\"Cost function: sum of squared muscle stresses.\"\"\"\n",
    "    return (x[0]/a[0])**2 + (x[1]/a[1])**2 + (x[2]/a[2])**2\n",
    "\n",
    "def cf_fmmax3(x, m):\n",
    "    \"\"\"Cost function: sum of cubic forces normalized by moments.\"\"\"\n",
    "    return (x[0]/m[0])**3 + (x[1]/m[1])**3 + (x[2]/m[2])**3"
   ]
  },
  {
   "cell_type": "markdown",
   "metadata": {},
   "source": [
    ">Let's also define the Jacobian for each cost function (which is an optional parameter for the optimization):"
   ]
  },
  {
   "cell_type": "code",
   "execution_count": 8,
   "metadata": {
    "collapsed": true
   },
   "outputs": [],
   "source": [
    "def cf_f1d(x):\n",
    "    \"\"\"Derivative of cost function: sum of forces.\"\"\"\n",
    "    dfdx0 = 1\n",
    "    dfdx1 = 1\n",
    "    dfdx2 = 1\n",
    "    return np.array([dfdx0, dfdx1, dfdx2])\n",
    "\n",
    "def cf_f2d(x):\n",
    "    \"\"\"Derivative of cost function: sum of forces squared.\"\"\"\n",
    "    dfdx0 = 2*x[0]\n",
    "    dfdx1 = 2*x[1]\n",
    "    dfdx2 = 2*x[2]\n",
    "    return np.array([dfdx0, dfdx1, dfdx2])\n",
    "\n",
    "def cf_fpcsa2d(x, a):\n",
    "    \"\"\"Derivative of cost function: sum of squared muscle stresses.\"\"\"\n",
    "    dfdx0 = 2*x[0]/a[0]**2\n",
    "    dfdx1 = 2*x[1]/a[1]**2\n",
    "    dfdx2 = 2*x[2]/a[2]**2\n",
    "    return np.array([dfdx0, dfdx1, dfdx2])\n",
    "\n",
    "def cf_fmmax3d(x, m):\n",
    "    \"\"\"Derivative of cost function: sum of cubic forces normalized by moments.\"\"\"\n",
    "    dfdx0 = 3*x[0]**2/m[0]**3\n",
    "    dfdx1 = 3*x[1]**2/m[1]**3\n",
    "    dfdx2 = 3*x[2]**2/m[2]**3\n",
    "    return np.array([dfdx0, dfdx1, dfdx2])"
   ]
  },
  {
   "cell_type": "markdown",
   "metadata": {},
   "source": [
    ">##### Let's define initial values (Exercises):\n",
    "\n",
    ">- F0 (N): 1000, 250, 700; \n",
    ">- r (cm): 2, 5, 4; \n",
    ">- A (cm$^2$): 33, 8, 23, "
   ]
  },
  {
   "cell_type": "code",
   "execution_count": 9,
   "metadata": {},
   "outputs": [
    {
     "name": "stdout",
     "output_type": "stream",
     "text": [
      "M = 30\n",
      "x0 = [ 62.49103971  42.37048694  97.05571622]\n",
      "r * x0 = 5.81241788462\n"
     ]
    }
   ],
   "source": [
    "# ---  Exercise 3 ---\n",
    "\n",
    "M = 30  # desired torque at the elbow\n",
    "iang = 45  # which will give the closest value to 90 degrees\n",
    "r  = r_ef[iang, 2:]\n",
    "f0 = f_ef[iang, 2:]\n",
    "a  = a_ef\n",
    "m  = m_ef[iang, 2:]\n",
    "x0 = f_ef[iang, 2:]/10  # far from the correct answer for the sum of torques\n",
    "print('M =', M)\n",
    "print('x0 =', x0)\n",
    "print('r * x0 =', np.sum(r*x0))"
   ]
  },
  {
   "cell_type": "code",
   "execution_count": 10,
   "metadata": {},
   "outputs": [
    {
     "name": "stdout",
     "output_type": "stream",
     "text": [
      "M = 10\n",
      "x0 = [ 100.   25.   70.]\n",
      "r * x0 = 605.0\n"
     ]
    }
   ],
   "source": [
    "# ---  Exercise 4 ---\n",
    "'''\n",
    "    - F0 (N): 1000, 250, 700; \n",
    "    - r (cm): 2, 5, 4; \n",
    "    - A (cm$^2$): 33, 8, 23 \n",
    "'''\n",
    "\n",
    "M = 10  # desired torque at the elbow\n",
    "iang = 68  # which will give the closest value to 90 degrees\n",
    "r  = np.array([2, 5, 4])\n",
    "f0 = np.array([1000, 250, 700])\n",
    "a  = np.array([33, 8, 23])\n",
    "m  = r*f0\n",
    "x0 = f0/10  # far from the correct answer for the sum of torques\n",
    "print('M =', M)\n",
    "print('x0 =', x0)\n",
    "print('r * x0 =', np.sum(r*x0))"
   ]
  },
  {
   "cell_type": "markdown",
   "metadata": {},
   "source": [
    ">Inequality constraints (such as boundaries in our problem) can be entered with the parameter `bounds` to the `minimize` function:"
   ]
  },
  {
   "cell_type": "code",
   "execution_count": 11,
   "metadata": {
    "collapsed": true
   },
   "outputs": [],
   "source": [
    "bnds = ((0, f0[0]), (0, f0[1]), (0, f0[2]))"
   ]
  },
  {
   "cell_type": "markdown",
   "metadata": {},
   "source": [
    ">Equality constraints (such as the sum of torques should equals the desired torque in our problem), as well as inequality constraints, can be entered with the parameter `constraints` to the `minimize` function (and we can also opt to enter the Jacobian of these constraints):"
   ]
  },
  {
   "cell_type": "code",
   "execution_count": 12,
   "metadata": {
    "collapsed": true
   },
   "outputs": [],
   "source": [
    "# use this in combination with the parameter bounds:\n",
    "cons = ({'type': 'eq',\n",
    "         'fun' : lambda x, r, f0, M: np.array([r[0]*x[0] + r[1]*x[1] + r[2]*x[2] - M]), \n",
    "         'jac' : lambda x, r, f0, M: np.array([r[0], r[1], r[2]]), 'args': (r, f0, M)})"
   ]
  },
  {
   "cell_type": "code",
   "execution_count": 13,
   "metadata": {
    "collapsed": true
   },
   "outputs": [],
   "source": [
    "# to enter everything as constraints:\n",
    "cons = ({'type': 'eq',\n",
    "         'fun' : lambda x, r, f0, M: np.array([r[0]*x[0] + r[1]*x[1] + r[2]*x[2] - M]), \n",
    "         'jac' : lambda x, r, f0, M: np.array([r[0], r[1], r[2]]), 'args': (r, f0, M)},\n",
    "        {'type': 'ineq', 'fun' : lambda x, r, f0, M: f0[0]-x[0],\n",
    "         'jac' : lambda x, r, f0, M: np.array([-1, 0, 0]), 'args': (r, f0, M)},\n",
    "        {'type': 'ineq', 'fun' : lambda x, r, f0, M: f0[1]-x[1],\n",
    "         'jac' : lambda x, r, f0, M: np.array([0, -1, 0]), 'args': (r, f0, M)},\n",
    "        {'type': 'ineq', 'fun' : lambda x, r, f0, M: f0[2]-x[2],\n",
    "         'jac' : lambda x, r, f0, M: np.array([0, 0, -1]), 'args': (r, f0, M)},\n",
    "        {'type': 'ineq', 'fun' : lambda x, r, f0, M: x[0],\n",
    "         'jac' : lambda x, r, f0, M: np.array([1, 0, 0]), 'args': (r, f0, M)},\n",
    "        {'type': 'ineq', 'fun' : lambda x, r, f0, M: x[1],\n",
    "         'jac' : lambda x, r, f0, M: np.array([0, 1, 0]), 'args': (r, f0, M)},\n",
    "        {'type': 'ineq', 'fun' : lambda x, r, f0, M: x[2],\n",
    "         'jac' : lambda x, r, f0, M: np.array([0, 0, 1]), 'args': (r, f0, M)})"
   ]
  },
  {
   "cell_type": "markdown",
   "metadata": {},
   "source": [
    ">Although more verbose, if all the Jacobians of the constraints are also informed, this alternative seems better than informing bounds for the optimization process (less error in the final result and less iterations).  \n",
    "\n",
    ">Given the characteristics of the problem, if we use the function `minimize` we are limited to the SLSQP (Sequential Least SQuares Programming) solver.  \n",
    "\n",
    ">Finally, let's run the optimization for the four different cost functions and find the optimal muscle forces:"
   ]
  },
  {
   "cell_type": "code",
   "execution_count": 14,
   "metadata": {},
   "outputs": [
    {
     "name": "stdout",
     "output_type": "stream",
     "text": [
      "Optimization terminated successfully.    (Exit mode 0)\n",
      "            Current function value: 1.9999999999999956\n",
      "            Iterations: 5\n",
      "            Function evaluations: 5\n",
      "            Gradient evaluations: 5\n"
     ]
    }
   ],
   "source": [
    "f1r = minimize(fun=cf_f1, x0=x0, args=(), jac=cf_f1d,\n",
    "               constraints=cons, method='SLSQP',\n",
    "               options={'disp': True})"
   ]
  },
  {
   "cell_type": "code",
   "execution_count": 15,
   "metadata": {},
   "outputs": [
    {
     "name": "stdout",
     "output_type": "stream",
     "text": [
      "Optimization terminated successfully.    (Exit mode 0)\n",
      "            Current function value: 2.2222222229725035\n",
      "            Iterations: 6\n",
      "            Function evaluations: 7\n",
      "            Gradient evaluations: 6\n"
     ]
    }
   ],
   "source": [
    "f2r = minimize(fun=cf_f2, x0=x0, args=(), jac=cf_f2d,\n",
    "               constraints=cons, method='SLSQP',\n",
    "               options={'disp': True})"
   ]
  },
  {
   "cell_type": "code",
   "execution_count": 16,
   "metadata": {},
   "outputs": [
    {
     "name": "stdout",
     "output_type": "stream",
     "text": [
      "Optimization terminated successfully.    (Exit mode 0)\n",
      "            Current function value: 0.006934816510969786\n",
      "            Iterations: 14\n",
      "            Function evaluations: 15\n",
      "            Gradient evaluations: 14\n"
     ]
    }
   ],
   "source": [
    "fpcsa2r = minimize(fun=cf_fpcsa2, x0=x0, args=(a,), jac=cf_fpcsa2d,\n",
    "                   constraints=cons, method='SLSQP',\n",
    "                   options={'disp': True})"
   ]
  },
  {
   "cell_type": "code",
   "execution_count": 17,
   "metadata": {},
   "outputs": [
    {
     "name": "stdout",
     "output_type": "stream",
     "text": [
      "Optimization terminated successfully.    (Exit mode 0)\n",
      "            Current function value: 1.5624999999801095e-08\n",
      "            Iterations: 2\n",
      "            Function evaluations: 2\n",
      "            Gradient evaluations: 2\n"
     ]
    }
   ],
   "source": [
    "fmmax3r = minimize(fun=cf_fmmax3, x0=x0, args=(m,), jac=cf_fmmax3d,\n",
    "                   constraints=cons, method='SLSQP',\n",
    "                   options={'disp': True})"
   ]
  },
  {
   "cell_type": "markdown",
   "metadata": {},
   "source": [
    ">Let's compare the results for the different cost functions:"
   ]
  },
  {
   "cell_type": "code",
   "execution_count": 18,
   "metadata": {},
   "outputs": [
    {
     "name": "stdout",
     "output_type": "stream",
     "text": [
      "\n",
      "Comparison of different cost functions for solving the distribution problem\n"
     ]
    },
    {
     "data": {
      "text/html": [
       "<div>\n",
       "<style>\n",
       "    .dataframe thead tr:only-child th {\n",
       "        text-align: right;\n",
       "    }\n",
       "\n",
       "    .dataframe thead th {\n",
       "        text-align: left;\n",
       "    }\n",
       "\n",
       "    .dataframe tbody tr th {\n",
       "        vertical-align: top;\n",
       "    }\n",
       "</style>\n",
       "<table border=\"1\" class=\"dataframe\">\n",
       "  <thead>\n",
       "    <tr style=\"text-align: right;\">\n",
       "      <th></th>\n",
       "      <th>Biceps long head</th>\n",
       "      <th>Biceps short head</th>\n",
       "      <th>Brachialis</th>\n",
       "      <th>Error in M</th>\n",
       "    </tr>\n",
       "  </thead>\n",
       "  <tbody>\n",
       "    <tr>\n",
       "      <th>$\\text{Moment arm}\\;[cm]$</th>\n",
       "      <td>200.0</td>\n",
       "      <td>500.0</td>\n",
       "      <td>400.0</td>\n",
       "      <td>-</td>\n",
       "    </tr>\n",
       "    <tr>\n",
       "      <th>$pcsa\\;[cm^2]$</th>\n",
       "      <td>33.0</td>\n",
       "      <td>8.0</td>\n",
       "      <td>23.0</td>\n",
       "      <td>-</td>\n",
       "    </tr>\n",
       "    <tr>\n",
       "      <th>$F_{max}\\;[N]$</th>\n",
       "      <td>1000.0</td>\n",
       "      <td>250.0</td>\n",
       "      <td>700.0</td>\n",
       "      <td>-</td>\n",
       "    </tr>\n",
       "    <tr>\n",
       "      <th>$M_{max}\\;[Nm]$</th>\n",
       "      <td>2000.0</td>\n",
       "      <td>1250.0</td>\n",
       "      <td>2800.0</td>\n",
       "      <td>-</td>\n",
       "    </tr>\n",
       "    <tr>\n",
       "      <th>$\\sum F_i$</th>\n",
       "      <td>-0.0</td>\n",
       "      <td>2.0</td>\n",
       "      <td>-0.0</td>\n",
       "      <td>0.0</td>\n",
       "    </tr>\n",
       "    <tr>\n",
       "      <th>$\\sum F_i^2$</th>\n",
       "      <td>0.4</td>\n",
       "      <td>1.1</td>\n",
       "      <td>0.9</td>\n",
       "      <td>0.0</td>\n",
       "    </tr>\n",
       "    <tr>\n",
       "      <th>$\\sum(F_i/pcsa_i)^2$</th>\n",
       "      <td>1.5</td>\n",
       "      <td>0.2</td>\n",
       "      <td>1.5</td>\n",
       "      <td>0.0</td>\n",
       "    </tr>\n",
       "    <tr>\n",
       "      <th>$\\sum(F_i/M_{max,i})^3$</th>\n",
       "      <td>5.0</td>\n",
       "      <td>0.0</td>\n",
       "      <td>-0.0</td>\n",
       "      <td>1.98951966013e-13</td>\n",
       "    </tr>\n",
       "  </tbody>\n",
       "</table>\n",
       "</div>"
      ],
      "text/plain": [
       "                          Biceps long head Biceps short head Brachialis  \\\n",
       "$\\text{Moment arm}\\;[cm]$            200.0             500.0      400.0   \n",
       "$pcsa\\;[cm^2]$                        33.0               8.0       23.0   \n",
       "$F_{max}\\;[N]$                      1000.0             250.0      700.0   \n",
       "$M_{max}\\;[Nm]$                     2000.0            1250.0     2800.0   \n",
       "$\\sum F_i$                            -0.0               2.0       -0.0   \n",
       "$\\sum F_i^2$                           0.4               1.1        0.9   \n",
       "$\\sum(F_i/pcsa_i)^2$                   1.5               0.2        1.5   \n",
       "$\\sum(F_i/M_{max,i})^3$                5.0               0.0       -0.0   \n",
       "\n",
       "                                  Error in M  \n",
       "$\\text{Moment arm}\\;[cm]$                  -  \n",
       "$pcsa\\;[cm^2]$                             -  \n",
       "$F_{max}\\;[N]$                             -  \n",
       "$M_{max}\\;[Nm]$                            -  \n",
       "$\\sum F_i$                               0.0  \n",
       "$\\sum F_i^2$                             0.0  \n",
       "$\\sum(F_i/pcsa_i)^2$                     0.0  \n",
       "$\\sum(F_i/M_{max,i})^3$    1.98951966013e-13  "
      ]
     },
     "execution_count": 18,
     "metadata": {},
     "output_type": "execute_result"
    }
   ],
   "source": [
    "dat = np.vstack((np.around(r*100,1), np.around(a,1), np.around(f0,0), np.around(m,1)))\n",
    "opt = np.around(np.vstack((f1r.x, f2r.x, fpcsa2r.x, fmmax3r.x)), 1)\n",
    "er = ['-', '-', '-', '-',\n",
    "      np.sum(r*f1r.x)-M, np.sum(r*f2r.x)-M, np.sum(r*fpcsa2r.x)-M, np.sum(r*fmmax3r.x)-M]\n",
    "data = np.vstack((np.vstack((dat, opt)).T, er)).T\n",
    "\n",
    "rows = ['$\\text{Moment arm}\\;[cm]$', '$pcsa\\;[cm^2]$', '$F_{max}\\;[N]$', '$M_{max}\\;[Nm]$',\n",
    "        '$\\sum F_i$', '$\\sum F_i^2$', '$\\sum(F_i/pcsa_i)^2$', '$\\sum(F_i/M_{max,i})^3$']\n",
    "cols = ['Biceps long head', 'Biceps short head', 'Brachialis', 'Error in M']\n",
    "df = pd.DataFrame(data, index=rows, columns=cols)\n",
    "print('\\nComparison of different cost functions for solving the distribution problem')\n",
    "df"
   ]
  },
  {
   "cell_type": "code",
   "execution_count": null,
   "metadata": {
    "collapsed": true
   },
   "outputs": [],
   "source": []
  }
 ],
 "metadata": {
  "kernelspec": {
   "display_name": "Python 3",
   "language": "python",
   "name": "python3"
  },
  "language_info": {
   "codemirror_mode": {
    "name": "ipython",
    "version": 3
   },
   "file_extension": ".py",
   "mimetype": "text/x-python",
   "name": "python",
   "nbconvert_exporter": "python",
   "pygments_lexer": "ipython3",
   "version": "3.6.5"
  },
  "varInspector": {
   "cols": {
    "lenName": 16,
    "lenType": 16,
    "lenVar": 40
   },
   "kernels_config": {
    "python": {
     "delete_cmd_postfix": "",
     "delete_cmd_prefix": "del ",
     "library": "var_list.py",
     "varRefreshCmd": "print(var_dic_list())"
    },
    "r": {
     "delete_cmd_postfix": ") ",
     "delete_cmd_prefix": "rm(",
     "library": "var_list.r",
     "varRefreshCmd": "cat(var_dic_list()) "
    }
   },
   "types_to_exclude": [
    "module",
    "function",
    "builtin_function_or_method",
    "instance",
    "_Feature"
   ],
   "window_display": false
  },
  "widgets": {
   "state": {},
   "version": "1.1.2"
  }
 },
 "nbformat": 4,
 "nbformat_minor": 1
}
