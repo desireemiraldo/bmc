{
 "cells": [
  {
   "cell_type": "markdown",
   "metadata": {},
   "source": [
    "# Multibody dynamics of simple biomechanical models\n",
    "\n",
    "> Marcos Duarte  \n",
    "> Laboratory of Biomechanics and Motor Control ([http://demotu.org/](http://demotu.org/))  \n",
    "> Federal University of ABC, Brazil"
   ]
  },
  {
   "cell_type": "markdown",
   "metadata": {},
   "source": [
    "The human body is composed of multiple interconnected segments (which can be modeled as rigid or flexible) and each segment may have translational and rotational movement. The part of mechanics for the study of movement and forces of interconnected bodies is called [multibody system](http://en.wikipedia.org/wiki/Multibody_system) or multibody dynamics. \n",
    "\n",
    "There are different approaches to deduce the kinematics and dynamics of such bodies, the most common are the [Newton-Euler](http://en.wikipedia.org/wiki/Newton%E2%80%93Euler_equations) and the [Langrangian](http://en.wikipedia.org/wiki/Lagrangian_mechanics) formalisms. The Newton-Euler formalism is based on the well known Newton-Euler equations. The Langrangian formalism uses the [principle of least action](http://en.wikipedia.org/wiki/Principle_of_least_action) and describes the movement based on [generalized coordinates](http://en.wikipedia.org/wiki/Generalized_coordinates), a set of parameters (typically, a convenient minimal set) to describe the configuration of the system taking into account its constraints. For a system with multiple bodies and several constraints, e.g., the human body, it is easier to describe the dynamics of such system using the Langrangian formalism. \n",
    "\n",
    "Next, we will study two simple problems of multibody systems in the context of biomechanics which we can handle well using the Newton-Euler approach. First a planar one-link system (which is not a multibody!), which can represent the movement of one limb of the body or the entire body as a single inverted pendulum. Second, a planar two-link system, which can represent the movement of two segments of the body, e.g., upper arm and forearm. Zajac and Gordon (1989) and Zajac (1993) offer excellent discussions about applying multibody system concepts to understanding human body movement.\n",
    "\n",
    "## Newton-Euler equations\n",
    "\n",
    "For a two-dimensional movement in the $XY$ plane, the Newton-Euler equations are:  \n",
    "\n",
    "\\begin{equation}\n",
    "\\left\\{ \\begin{array}{l l}\n",
    "\\sum F_X = m \\ddot{x}_{cm} \\\\\n",
    "\\\\\n",
    "\\sum F_Y = m \\ddot{y}_{cm} \\\\\n",
    "\\\\\n",
    "\\sum M_Z = I_{cm} \\ddot{\\alpha}_Z\n",
    "\\end{array} \\right.\n",
    "\\label{}\n",
    "\\end{equation}\n",
    "\n",
    "Where the movement is described around the body center of mass ($cm$). $(F_X,\\,F_Y)$ and $M_Z$ are, respectively, the forces and moment of forces (torques) acting on the body, $(\\ddot{x}_{cm},\\,\\ddot{y}_{cm})$ and $\\ddot{\\alpha}_Z$ are, respectively, the linear and angular accelerations, and $I_{cm}$ is the body moment of inertia around the $Z$ axis passing through the body center of mass.  \n",
    "\n",
    "Let's use Sympy to derive some of the characteristics of the systems."
   ]
  },
  {
   "cell_type": "code",
   "execution_count": 1,
   "metadata": {
    "ExecuteTime": {
     "end_time": "2018-08-09T05:41:40.596851Z",
     "start_time": "2018-08-09T05:41:39.866270Z"
    },
    "collapsed": true
   },
   "outputs": [],
   "source": [
    "from sympy import Symbol, symbols, cos, sin, Matrix, simplify\n",
    "from sympy.physics.mechanics import dynamicsymbols, mlatex, init_vprinting\n",
    "init_vprinting()\n",
    "from IPython.display import display, Math"
   ]
  },
  {
   "cell_type": "markdown",
   "metadata": {},
   "source": [
    "## One-link system\n",
    "\n",
    "Let's study the dynamics of a planar inverted pendulum as a model for the movement of a human body segment with an external force acting on the segment (see Figure 1). \n",
    "\n",
    "<figure><img src=\"./filesLecture20/invpend1.png\" alt=\"Inverted pendulum\"/><figcaption><i><center>Figure 1. Planar inverted pendulum with joint actuators (muscles) and corresponding free body diagram. See text for notation convention.</center></i></figcaption> \n",
    "\n",
    "The following notation convention will be used for this problem:  \n",
    "\n",
    " - $L$ is the length of the segment.  \n",
    " - $d$ is the distance from the joint of the segment to its center of mass position.  \n",
    " - $m$ is the mass of the segment. \n",
    " - $g$ is the gravitational acceleration (+).   \n",
    " - $\\alpha$ is the angular position of the joint w.r.t. horizontal, $\\ddot{\\alpha_i}$ is the corresponding angular acceleration.  \n",
    " - $I$ is the moment of inertia of the segment around its center of mass position.  \n",
    " - $F_{r}$ is the joint reaction force.  \n",
    " - $F_{e}$ is the external force acting on the segment.\n",
    " - $T$ is the joint moment of force (torque). \n",
    " \n",
    "Muscles responsible for the movement of the segment are represented as a single pair of antagonistic joint actuators (e.g., flexors and extensors). We will consider that all joint torques are generated only by these muscles (we will disregard the torques generated by ligaments and other tissues) and the total or net joint torque will be the sum of the torques generated by the two muscles:\n",
    "\n",
    "\\begin{equation}\n",
    "T = T_{net} = T_{extension} - T_{flexion}\n",
    "\\label{}\n",
    "\\end{equation}\n",
    "\n",
    "Where we considered the extensor torque as positive. In what follows, we will determine only the net torque, we will be unable to decompose the net torque in its components.\n",
    "\n",
    "### Kinetics\n",
    " \n",
    "From the free body diagram, the Newton-Euler equations for the planar inverted pendulum are (writing the equation for the torques around the center of mass):\n",
    "\n",
    "\\begin{equation}\n",
    "\\begin{array}{l l}\n",
    "F_{r,x} + F_{e,x} = m\\ddot{x} \\\\\n",
    "\\\\\n",
    "F_{r,y} - mg + F_{e,y} = m\\ddot{y} \\\\\n",
    "\\\\\n",
    "T + dF_{r,x}\\sin\\alpha - dF_{r,y}\\cos\\alpha - (L-d)F_{e,x}\\sin\\alpha + (L-d)F_{e,y}\\cos\\alpha = I\\ddot{\\alpha}\n",
    "\\end{array}\n",
    "\\label{}\n",
    "\\end{equation}\n",
    "\n",
    "However, manually placing the terms in the Newton-Euler equations as we did above where we calculated the signs of the cross products is error prone. We can avoid this manual placing by treating the quantities as vectors and express them in matricial form:\n",
    "\n",
    "\\begin{equation}\n",
    "\\begin{array}{l l}\n",
    "\\mathbf{F}_r + \\mathbf{F}_g + \\mathbf{F}_e = m\\ddot{\\mathbf{r}} \\\\\n",
    "\\\\\n",
    "\\mathbf{T} + \\mathbf{r}_{cm,j} \\times \\mathbf{F}_r + \\mathbf{r}_{cm,e} \\times \\mathbf{F}_e = I\\ddot{\\mathbf{\\alpha}}\n",
    "\\end{array}\n",
    "\\label{}\n",
    "\\end{equation}\n",
    "\n",
    "Where:\n",
    "\n",
    "\\begin{equation}\n",
    "\\begin{bmatrix} F_{rx} \\\\ F_{ry} \\\\ 0 \\end{bmatrix}  + \\begin{bmatrix} 0 \\\\ -g \\\\ 0 \\end{bmatrix}  + \\begin{bmatrix} F_{ex} \\\\ F_{ey} \\\\ 0 \\end{bmatrix} = m\\begin{bmatrix} \\ddot{x} \\\\ \\ddot{y} \\\\ 0 \\end{bmatrix} , \\quad \\begin{bmatrix} \\hat{i} \\\\ \\hat{j} \\\\ \\hat{k} \\end{bmatrix}\n",
    "\\label{}\n",
    "\\end{equation}\n",
    "\n",
    "\\begin{equation}\n",
    "\\begin{bmatrix} 0 \\\\ 0 \\\\ T_z \\end{bmatrix}  + \\begin{bmatrix} -d\\cos\\alpha \\\\ -d\\sin\\alpha \\\\ 0 \\end{bmatrix}  \\times \\begin{bmatrix} F_{rx} \\\\ F_{ry} \\\\ 0 \\end{bmatrix} + \\begin{bmatrix} (L-d)\\cos\\alpha \\\\ (L-d)\\sin\\alpha \\\\ 0 \\end{bmatrix}  \\times \\begin{bmatrix} F_{ex} \\\\ F_{ey} \\\\ 0 \\end{bmatrix} = I_z\\begin{bmatrix} 0 \\\\ 0 \\\\ \\ddot{\\alpha} \\end{bmatrix} , \\quad \\begin{bmatrix} \\hat{i} \\\\ \\hat{j} \\\\ \\hat{k} \\end{bmatrix}\n",
    "\\label{}\n",
    "\\end{equation}\n",
    "\n",
    "Note that $\\times$ represents the cross product, not matrix multiplication. Then, both in symbolic or numeric manipulation we would use the cross product function to perform part of the calculations. There are different computational tools that can be used for the formulation of the equations of motion. For instance, Sympy has a module, [Classical Mechanics](http://docs.sympy.org/dev/modules/physics/mechanics/), and see [this list](http://real.uwaterloo.ca/~mbody/#Software) for other software. Let's continue with the manual formulation of the equations hence they are not complex.  \n",
    "\n",
    "We can rewrite the equation for the moments of force in a form that doesn't explicitly involve the joint reaction force expressing the moments of force around the joint center:\n",
    "\n",
    "\\begin{equation}\n",
    "T - mgd\\cos\\alpha - LF_{e,x}\\sin\\alpha + LF_{e,y}\\cos\\alpha = I_o\\ddot{\\alpha}\n",
    "\\label{}\n",
    "\\end{equation}\n",
    "\n",
    "Where $I_o$ is the moment of inertia around the joint, $I_o=I_{cm}+md^2$, using the parallel axis theorem.  \n",
    "\n",
    "The torque due to the joint reaction force does not appear on this equation; this torque is null because by the definition the reaction force acts on the joint. If we want to determine the joint torque and we know the kinematics, we perform inverse dynamics:\n",
    "\n",
    "\\begin{equation}\n",
    "T = I_o\\ddot{\\alpha} + mgd \\cos \\alpha + LF_{e,x}\\sin\\alpha - LF_{e,y}\\cos\\alpha\n",
    "\\label{}\n",
    "\\end{equation}\n",
    "\n",
    "If we want to determine the kinematics and we know the joint torque, we perform direct dynamics:\n",
    "\n",
    "\\begin{equation}\n",
    "\\ddot{\\alpha} = I_o^{-1}[T - mgd \\cos \\alpha - LF_{e,x}\\sin\\alpha + LF_{e,y}\\cos\\alpha ]\n",
    "\\label{}\n",
    "\\end{equation}\n",
    "\n",
    "The expression above is a second-order differential equation which typically is solved numerically. So, unless we are explicitly interested in estimating the joint reaction forces, we don't need to use them for calculating the joint torque or simulate movement. Anyway, let's look at the kinematics of this problem to introduce some important concepts which will be needed later.\n",
    "\n",
    "### Kinematics\n",
    "\n",
    "A single planar inverted pendulum has one degree of freedom, the rotation movement of the segment around the pin joint. In this case, if the angular position $\\alpha(t)$ is known, the coordinates $x(t)$ and $y(t)$ of the center of mass and their derivatives can be readily determined (a process referred as forward kinematics):"
   ]
  },
  {
   "cell_type": "code",
   "execution_count": 2,
   "metadata": {
    "ExecuteTime": {
     "end_time": "2018-08-09T05:41:40.602848Z",
     "start_time": "2018-08-09T05:41:40.598850Z"
    },
    "collapsed": true
   },
   "outputs": [],
   "source": [
    "t = Symbol('t')\n",
    "d, L = symbols('d L', positive=True)\n",
    "a = dynamicsymbols('alpha')"
   ]
  },
  {
   "cell_type": "code",
   "execution_count": 3,
   "metadata": {
    "ExecuteTime": {
     "end_time": "2018-08-09T05:41:40.650819Z",
     "start_time": "2018-08-09T05:41:40.604846Z"
    },
    "collapsed": false
   },
   "outputs": [
    {
     "data": {
      "text/latex": [
       "$$x=d \\operatorname{cos}\\left(\\alpha\\right)$$"
      ],
      "text/plain": [
       "<IPython.core.display.Math object>"
      ]
     },
     "metadata": {},
     "output_type": "display_data"
    },
    {
     "data": {
      "text/latex": [
       "$$\\dot{x}=- d \\operatorname{sin}\\left(\\alpha\\right) \\dot{\\alpha}$$"
      ],
      "text/plain": [
       "<IPython.core.display.Math object>"
      ]
     },
     "metadata": {},
     "output_type": "display_data"
    },
    {
     "data": {
      "text/latex": [
       "$$\\ddot{x}=- d \\operatorname{sin}\\left(\\alpha\\right) \\ddot{\\alpha} - d \\operatorname{cos}\\left(\\alpha\\right) \\dot{\\alpha}^{2}$$"
      ],
      "text/plain": [
       "<IPython.core.display.Math object>"
      ]
     },
     "metadata": {},
     "output_type": "display_data"
    },
    {
     "data": {
      "text/latex": [
       "$$y=d \\operatorname{sin}\\left(\\alpha\\right)$$"
      ],
      "text/plain": [
       "<IPython.core.display.Math object>"
      ]
     },
     "metadata": {},
     "output_type": "display_data"
    },
    {
     "data": {
      "text/latex": [
       "$$\\dot{y}=d \\operatorname{cos}\\left(\\alpha\\right) \\dot{\\alpha}$$"
      ],
      "text/plain": [
       "<IPython.core.display.Math object>"
      ]
     },
     "metadata": {},
     "output_type": "display_data"
    },
    {
     "data": {
      "text/latex": [
       "$$\\ddot{y}=- d \\operatorname{sin}\\left(\\alpha\\right) \\dot{\\alpha}^{2} + d \\operatorname{cos}\\left(\\alpha\\right) \\ddot{\\alpha}$$"
      ],
      "text/plain": [
       "<IPython.core.display.Math object>"
      ]
     },
     "metadata": {},
     "output_type": "display_data"
    }
   ],
   "source": [
    "x, y = d*cos(a), d*sin(a)\n",
    "xd, yd = x.diff(t), y.diff(t)\n",
    "xdd, ydd = xd.diff(t), yd.diff(t)\n",
    "\n",
    "display(Math(r'x=' + mlatex(x)))\n",
    "display(Math(r'\\dot{x}=' + mlatex(xd)))\n",
    "display(Math(r'\\ddot{x}=' + mlatex(xdd)))\n",
    "display(Math(r'y=' + mlatex(y)))\n",
    "display(Math(r'\\dot{y}=' + mlatex(yd)))\n",
    "display(Math(r'\\ddot{y}=' + mlatex(ydd)))"
   ]
  },
  {
   "cell_type": "markdown",
   "metadata": {},
   "source": [
    "The terms in $\\ddot{x}$ and $\\ddot{y}$ proportional to $\\dot{\\alpha}^2$ are components of the centripetal acceleration on the body. As the name suggests, the [centripetal](http://en.wikipedia.org/wiki/Centripetal_force) acceleration is always directed to the center (towards the joint) when the segment is rotating. See the notebook [Kinematic chain](http://nbviewer.ipython.org/github/demotu/BMC/blob/master/notebooks/KinematicChain.ipynb) for more on that.\n",
    "\n",
    "As an exercise, let's go back to the Newton-Euler equation for the sum of torques around the center of mass where the torques due to the joint reaction forces are explicit. From the equation for the the sum of forces, hence we have expressions for the linear accelerations, we can isolate the reaction forces and substitute them on the equation for the torques. With a little help from Sympy:"
   ]
  },
  {
   "cell_type": "code",
   "execution_count": 4,
   "metadata": {
    "ExecuteTime": {
     "end_time": "2018-08-09T05:41:40.654818Z",
     "start_time": "2018-08-09T05:41:40.651819Z"
    },
    "collapsed": true
   },
   "outputs": [],
   "source": [
    "m, I, g = symbols('m I g', positive=True)\n",
    "Fex, Fey = symbols('F_ex F_ey')\n",
    "add = a.diff(t, 2)"
   ]
  },
  {
   "cell_type": "code",
   "execution_count": 5,
   "metadata": {
    "ExecuteTime": {
     "end_time": "2018-08-09T05:41:40.674806Z",
     "start_time": "2018-08-09T05:41:40.655817Z"
    },
    "collapsed": false
   },
   "outputs": [
    {
     "data": {
      "text/latex": [
       "$$F_{rx}=- F_{ex} + m \\left(- d \\operatorname{sin}\\left(\\alpha\\right) \\ddot{\\alpha} - d \\operatorname{cos}\\left(\\alpha\\right) \\dot{\\alpha}^{2}\\right)$$"
      ],
      "text/plain": [
       "<IPython.core.display.Math object>"
      ]
     },
     "metadata": {},
     "output_type": "display_data"
    },
    {
     "data": {
      "text/latex": [
       "$$F_{ry}=- F_{ey} + g m + m \\left(- d \\operatorname{sin}\\left(\\alpha\\right) \\dot{\\alpha}^{2} + d \\operatorname{cos}\\left(\\alpha\\right) \\ddot{\\alpha}\\right)$$"
      ],
      "text/plain": [
       "<IPython.core.display.Math object>"
      ]
     },
     "metadata": {},
     "output_type": "display_data"
    }
   ],
   "source": [
    "Frx = m*xdd - Fex\n",
    "Fry = m*ydd + m*g - Fey\n",
    "display(Math(r'F_{rx}=' + mlatex(Frx)))\n",
    "display(Math(r'F_{ry}=' + mlatex(Fry)))"
   ]
  },
  {
   "cell_type": "code",
   "execution_count": 6,
   "metadata": {
    "ExecuteTime": {
     "end_time": "2018-08-09T05:41:40.694813Z",
     "start_time": "2018-08-09T05:41:40.675805Z"
    },
    "collapsed": false
   },
   "outputs": [
    {
     "data": {
      "text/latex": [
       "$$T\\quad=\\quad F_{ex} \\left(L - d\\right) \\operatorname{sin}\\left(\\alpha\\right) - F_{ey} \\left(L - d\\right) \\operatorname{cos}\\left(\\alpha\\right) + I \\ddot{\\alpha} - d \\left(- F_{ex} + m \\left(- d \\operatorname{sin}\\left(\\alpha\\right) \\ddot{\\alpha} - d \\operatorname{cos}\\left(\\alpha\\right) \\dot{\\alpha}^{2}\\right)\\right) \\operatorname{sin}\\left(\\alpha\\right) + d \\left(- F_{ey} + g m + m \\left(- d \\operatorname{sin}\\left(\\alpha\\right) \\dot{\\alpha}^{2} + d \\operatorname{cos}\\left(\\alpha\\right) \\ddot{\\alpha}\\right)\\right) \\operatorname{cos}\\left(\\alpha\\right)$$"
      ],
      "text/plain": [
       "<IPython.core.display.Math object>"
      ]
     },
     "metadata": {},
     "output_type": "display_data"
    }
   ],
   "source": [
    "T = I*add - d*sin(a)*Frx + d*cos(a)*Fry + (L-d)*sin(a)*Fex - (L-d)*cos(a)*Fey\n",
    "display(Math(r'T\\quad=\\quad ' + mlatex(T)))"
   ]
  },
  {
   "cell_type": "markdown",
   "metadata": {},
   "source": [
    "This equation for the torques around the center of mass of only one rotating segment seems too complicated. The equation we derived before for the torques around the joint was much simpler. However, if we look at the terms on this last equation, we can simplify most of them. Let's use Sympy to simplify this equation:"
   ]
  },
  {
   "cell_type": "code",
   "execution_count": 7,
   "metadata": {
    "ExecuteTime": {
     "end_time": "2018-08-09T05:41:40.980631Z",
     "start_time": "2018-08-09T05:41:40.695794Z"
    },
    "collapsed": false
   },
   "outputs": [
    {
     "data": {
      "text/latex": [
       "$$T=F_{ex} L \\operatorname{sin}\\left(\\alpha\\right) - F_{ey} L \\operatorname{cos}\\left(\\alpha\\right) + I \\ddot{\\alpha} + d^{2} m \\ddot{\\alpha} + d g m \\operatorname{cos}\\left(\\alpha\\right)$$"
      ],
      "text/plain": [
       "<IPython.core.display.Math object>"
      ]
     },
     "metadata": {},
     "output_type": "display_data"
    }
   ],
   "source": [
    "T = simplify(T)\n",
    "display(Math(r'T=' + mlatex(T)))"
   ]
  },
  {
   "cell_type": "markdown",
   "metadata": {},
   "source": [
    "And we are back to the more simple equation we've seen before. The first two terms on the right side are the torque due to the external force, the third and fourth are the moment of inertia around the joint (use the theorem of parallel axis) times the acceleration, and the last term is the gravitational torque.  \n",
    "\n",
    "But what happened with all the other terms in the equation?  \n",
    "\n",
    "First, the terms proportional to the angular acceleration were just components from each direction of the 'inertial' torque that when summed resulted in $md^2\\ddot{\\alpha}$. \n",
    "Second, the terms proportional to $\\dot{\\alpha}^2$ are components of the torque due to the centripetal force (acceleration). But the centripetal force passes through the joint as well as through the center of mass, i.e., it has zero lever arm and this torque should be zero. Indeed, when summed these terms are canceled out.  "
   ]
  },
  {
   "cell_type": "markdown",
   "metadata": {},
   "source": [
    "### The Jacobian matrix\n",
    "\n",
    "Another way to deduce the velocity and acceleration of a point at the rotating link is to use the [Jacobian matrix](http://en.wikipedia.org/wiki/Jacobian_matrix_and_determinant) (see [Kinematic chain](http://nbviewer.ipython.org/github/demotu/BMC/blob/master/notebooks/KinematicChain.ipynb)). Remember that in the context of kinematic chains, the Jacobian is a matrix of all first-order partial derivatives of the linear position vector of the endpoint with respect to the angular position vector. For the planar one-link case, this means that the Jacobian matrix is:\n",
    "\n",
    "\\begin{equation}\n",
    "\\mathbf{J}= \n",
    "\\begin{bmatrix}\n",
    "\\dfrac{\\partial x}{\\partial \\alpha} \\\\\n",
    "\\dfrac{\\partial y}{\\partial \\alpha} \\\\\n",
    "\\end{bmatrix}\n",
    "\\label{}\n",
    "\\end{equation}"
   ]
  },
  {
   "cell_type": "code",
   "execution_count": 8,
   "metadata": {
    "ExecuteTime": {
     "end_time": "2018-08-09T05:41:41.120568Z",
     "start_time": "2018-08-09T05:41:41.110558Z"
    },
    "collapsed": false
   },
   "outputs": [
    {
     "data": {
      "text/latex": [
       "$$\\mathbf{J}=\\left[\\begin{matrix}- d \\operatorname{sin}\\left(\\alpha\\right)\\\\d \\operatorname{cos}\\left(\\alpha\\right)\\end{matrix}\\right]$$"
      ],
      "text/plain": [
       "<IPython.core.display.Math object>"
      ]
     },
     "metadata": {},
     "output_type": "display_data"
    }
   ],
   "source": [
    "r = Matrix((x, y))\n",
    "J = r.diff(a)\n",
    "display(Math(r'\\mathbf{J}=' + mlatex(J)))"
   ]
  },
  {
   "cell_type": "markdown",
   "metadata": {},
   "source": [
    "And Sympy has a function to calculate the Jacobian:"
   ]
  },
  {
   "cell_type": "code",
   "execution_count": 9,
   "metadata": {
    "ExecuteTime": {
     "end_time": "2018-08-09T05:41:41.320438Z",
     "start_time": "2018-08-09T05:41:41.315460Z"
    },
    "collapsed": false
   },
   "outputs": [
    {
     "data": {
      "text/latex": [
       "$$\\mathbf{J}=\\left[\\begin{matrix}- d \\operatorname{sin}\\left(\\alpha\\right)\\\\d \\operatorname{cos}\\left(\\alpha\\right)\\end{matrix}\\right]$$"
      ],
      "text/plain": [
       "<IPython.core.display.Math object>"
      ]
     },
     "metadata": {},
     "output_type": "display_data"
    }
   ],
   "source": [
    "J = r.jacobian([a])\n",
    "display(Math(r'\\mathbf{J}=' + mlatex(J)))"
   ]
  },
  {
   "cell_type": "markdown",
   "metadata": {},
   "source": [
    "The linear velocity of a point in the link will be given by the product between the Jacobian of the kinematic link and its angular velocity:\n",
    "\n",
    "\\begin{equation}\n",
    "\\mathbf{v} = \\mathbf{J} \\dot{\\alpha}\n",
    "\\label{}\n",
    "\\end{equation}\n",
    "\n",
    "Using Sympy:"
   ]
  },
  {
   "cell_type": "code",
   "execution_count": 10,
   "metadata": {
    "ExecuteTime": {
     "end_time": "2018-08-09T05:41:41.528336Z",
     "start_time": "2018-08-09T05:41:41.522323Z"
    },
    "collapsed": false
   },
   "outputs": [
    {
     "data": {
      "text/latex": [
       "$$\\begin{bmatrix} \\dot{x} \\\\ \\dot{y} \\end{bmatrix}=\\left[\\begin{matrix}- d \\operatorname{sin}\\left(\\alpha\\right) \\dot{\\alpha}\\\\d \\operatorname{cos}\\left(\\alpha\\right) \\dot{\\alpha}\\end{matrix}\\right]$$"
      ],
      "text/plain": [
       "<IPython.core.display.Math object>"
      ]
     },
     "metadata": {},
     "output_type": "display_data"
    }
   ],
   "source": [
    "vel = J*a.diff(t)\n",
    "display(Math(r'\\begin{bmatrix} \\dot{x} \\\\ \\dot{y} \\end{bmatrix}=' + mlatex(vel)))"
   ]
  },
  {
   "cell_type": "markdown",
   "metadata": {},
   "source": [
    "And the linear acceleration will be given by the derivative of this last expression:\n",
    " \n",
    "\\begin{equation}\n",
    "\\mathbf{a} = \\dot{\\mathbf{J}} \\dot{\\alpha} + \\mathbf{J} \\ddot{\\alpha}\n",
    "\\label{}\n",
    "\\end{equation}\n",
    "\n",
    "And using Sympy again:"
   ]
  },
  {
   "cell_type": "code",
   "execution_count": 11,
   "metadata": {
    "ExecuteTime": {
     "end_time": "2018-08-09T05:41:41.738199Z",
     "start_time": "2018-08-09T05:41:41.730203Z"
    },
    "collapsed": false
   },
   "outputs": [
    {
     "data": {
      "text/latex": [
       "$$\\begin{bmatrix} \\ddot{x} \\\\ \\ddot{y} \\end{bmatrix}=\\left[\\begin{matrix}- d \\operatorname{sin}\\left(\\alpha\\right) \\ddot{\\alpha} - d \\operatorname{cos}\\left(\\alpha\\right) \\dot{\\alpha}^{2}\\\\- d \\operatorname{sin}\\left(\\alpha\\right) \\dot{\\alpha}^{2} + d \\operatorname{cos}\\left(\\alpha\\right) \\ddot{\\alpha}\\end{matrix}\\right]$$"
      ],
      "text/plain": [
       "<IPython.core.display.Math object>"
      ]
     },
     "metadata": {},
     "output_type": "display_data"
    }
   ],
   "source": [
    "acc = (J*a.diff(t)).diff(t)\n",
    "display(Math(r'\\begin{bmatrix} \\ddot{x} \\\\ \\ddot{y} \\end{bmatrix}=' + mlatex(acc)))"
   ]
  },
  {
   "cell_type": "markdown",
   "metadata": {},
   "source": [
    "Same expressions as before.\n",
    "\n",
    "We can also use the Jacobian matrix to calculate the torque due to a force on the link:\n",
    "\n",
    "\\begin{equation}\n",
    "T = \\mathbf{J}^T \\begin{bmatrix} F_{ex} \\\\ F_{ey} \\end{bmatrix}\n",
    "\\label{}\n",
    "\\end{equation}"
   ]
  },
  {
   "cell_type": "code",
   "execution_count": 12,
   "metadata": {
    "ExecuteTime": {
     "end_time": "2018-08-09T05:41:41.938084Z",
     "start_time": "2018-08-09T05:41:41.932088Z"
    },
    "collapsed": false
   },
   "outputs": [
    {
     "data": {
      "text/latex": [
       "$$T_e=- F_{ex} d \\operatorname{sin}\\left(\\alpha\\right) + F_{ey} d \\operatorname{cos}\\left(\\alpha\\right)$$"
      ],
      "text/plain": [
       "<IPython.core.display.Math object>"
      ]
     },
     "metadata": {},
     "output_type": "display_data"
    }
   ],
   "source": [
    "Te = J.T*Matrix((Fex, Fey))\n",
    "display(Math(r'T_e=' + mlatex(Te[0])))"
   ]
  },
  {
   "cell_type": "markdown",
   "metadata": {},
   "source": [
    "Now let's study a two-link system which can rotate independently around each joint. We will see that now the torque due to the centripetal force most of the times will not cancel out and a new torque component will appear."
   ]
  },
  {
   "cell_type": "markdown",
   "metadata": {},
   "source": [
    "## Two-link system\n",
    "\n",
    "Let's study the dynamics of a planar double inverted pendulum (see Figure 2) as a model of two interconnected segments in the human body with an external force acting on the distal segment. Once again, we will consider that there are muscles around each joint and they generate torques.\n",
    "\n",
    "<figure><img src=\"./filesLecture20/invpend2.png\" alt=\"Double inverted pendulum\"/><figcaption><i><center>Figure 2. Planar double inverted pendulum  with joint actuators (muscles) and corresponding free body diagrams. See text for notation convention.</center></i></figcaption> \n",
    "\n",
    "The following notation convention will be used for this problem:  \n",
    " - Subscript $i$ runs 1 or 2 meaning first (most proximal) or second joint when referring to angles, joint moments, or joint reaction forces, or meaning first or second segment when referring to everything else.  \n",
    " - $L_i$ is the length of segment $i$.  \n",
    " - $d_i$ is the distance from the proximal joint of segment $i$ to its center of mass position.  \n",
    " - $m_i$ is the mass of segment $i$. \n",
    " - $g$ is the gravitational acceleration (+).   \n",
    " - $\\alpha_i$ is the angular position of joint $i$ in the joint space, $\\ddot{\\alpha_i}$ is the corresponding angular acceleration.\n",
    " - $\\theta_i$ is the angular position of joint $i$ in the segmental space w.r.t. horizontal, $\\theta_1=\\alpha_1$ and $\\theta_2=\\alpha_1+\\alpha_2$.  \n",
    " - $I_i$ is the moment of inertia of segment $i$ around its center of mass position.  \n",
    " - $F_{ri}$ is the reaction force of joint $i$.  \n",
    " - $F_{e}$ is the external force acting on the distal segment.\n",
    " - $T_i$ is the moment of force (torque) of joint $i$.  \n",
    "\n",
    "Hence we know we will need the linear accelerations for solving the Newton-Euler equations, let's deduce them first.\n",
    "\n",
    "### Kinematics\n",
    "\n",
    "Once again, if the angular positions $\\alpha_1(t)$ and $\\alpha_2(t)$ are known, the coordinates $(x_1(t), y_1(t))$ and $(x_2(t), y_2(t))$ and their derivatives can be readily determined (by forward kinematics):\n",
    "\n",
    "#### Link 1"
   ]
  },
  {
   "cell_type": "code",
   "execution_count": 13,
   "metadata": {
    "ExecuteTime": {
     "end_time": "2018-08-09T05:41:42.329860Z",
     "start_time": "2018-08-09T05:41:42.323863Z"
    },
    "collapsed": true
   },
   "outputs": [],
   "source": [
    "t = Symbol('t')\n",
    "d1, d2, L1, L2 = symbols('d1, d2, L_1 L_2', positive=True)\n",
    "a1, a2 = dynamicsymbols('alpha1 alpha2')\n",
    "a1d, a2d = a1.diff(t), a2.diff(t)\n",
    "a1dd, a2dd = a1.diff(t, 2), a2.diff(t, 2)"
   ]
  },
  {
   "cell_type": "code",
   "execution_count": 14,
   "metadata": {
    "ExecuteTime": {
     "end_time": "2018-08-09T05:41:42.361842Z",
     "start_time": "2018-08-09T05:41:42.330859Z"
    },
    "collapsed": false
   },
   "outputs": [
    {
     "data": {
      "text/latex": [
       "$$x_1=d_{1} \\operatorname{cos}\\left(\\alpha_{1}\\right)$$"
      ],
      "text/plain": [
       "<IPython.core.display.Math object>"
      ]
     },
     "metadata": {},
     "output_type": "display_data"
    },
    {
     "data": {
      "text/latex": [
       "$$\\dot{x}_1=- d_{1} \\operatorname{sin}\\left(\\alpha_{1}\\right) \\dot{\\alpha}_{1}$$"
      ],
      "text/plain": [
       "<IPython.core.display.Math object>"
      ]
     },
     "metadata": {},
     "output_type": "display_data"
    },
    {
     "data": {
      "text/latex": [
       "$$\\ddot{x}_1=- d_{1} \\operatorname{sin}\\left(\\alpha_{1}\\right) \\ddot{\\alpha}_{1} - d_{1} \\operatorname{cos}\\left(\\alpha_{1}\\right) \\dot{\\alpha}_{1}^{2}$$"
      ],
      "text/plain": [
       "<IPython.core.display.Math object>"
      ]
     },
     "metadata": {},
     "output_type": "display_data"
    },
    {
     "data": {
      "text/latex": [
       "$$y_1=d_{1} \\operatorname{sin}\\left(\\alpha_{1}\\right)$$"
      ],
      "text/plain": [
       "<IPython.core.display.Math object>"
      ]
     },
     "metadata": {},
     "output_type": "display_data"
    },
    {
     "data": {
      "text/latex": [
       "$$\\dot{y}_1=d_{1} \\operatorname{cos}\\left(\\alpha_{1}\\right) \\dot{\\alpha}_{1}$$"
      ],
      "text/plain": [
       "<IPython.core.display.Math object>"
      ]
     },
     "metadata": {},
     "output_type": "display_data"
    },
    {
     "data": {
      "text/latex": [
       "$$\\ddot{y}_1=- d_{1} \\operatorname{sin}\\left(\\alpha_{1}\\right) \\dot{\\alpha}_{1}^{2} + d_{1} \\operatorname{cos}\\left(\\alpha_{1}\\right) \\ddot{\\alpha}_{1}$$"
      ],
      "text/plain": [
       "<IPython.core.display.Math object>"
      ]
     },
     "metadata": {},
     "output_type": "display_data"
    }
   ],
   "source": [
    "x1, y1 = d1*cos(a1), d1*sin(a1)\n",
    "x1d, y1d = x1.diff(t), y1.diff(t)\n",
    "x1dd, y1dd = x1d.diff(t), y1d.diff(t)\n",
    "\n",
    "display(Math(r'x_1=' + mlatex(x1)))\n",
    "display(Math(r'\\dot{x}_1=' + mlatex(x1d)))\n",
    "display(Math(r'\\ddot{x}_1=' + mlatex(x1dd)))\n",
    "display(Math(r'y_1=' + mlatex(y1)))\n",
    "display(Math(r'\\dot{y}_1=' + mlatex(y1d)))\n",
    "display(Math(r'\\ddot{y}_1=' + mlatex(y1dd)))"
   ]
  },
  {
   "cell_type": "markdown",
   "metadata": {},
   "source": [
    "#### Link 2"
   ]
  },
  {
   "cell_type": "code",
   "execution_count": 15,
   "metadata": {
    "ExecuteTime": {
     "end_time": "2018-08-09T05:41:42.572720Z",
     "start_time": "2018-08-09T05:41:42.525747Z"
    },
    "collapsed": false
   },
   "outputs": [
    {
     "data": {
      "text/latex": [
       "$$x_2=L_{1} \\operatorname{cos}\\left(\\alpha_{1}\\right) + d_{2} \\operatorname{cos}\\left(\\alpha_{1} + \\alpha_{2}\\right)$$"
      ],
      "text/plain": [
       "<IPython.core.display.Math object>"
      ]
     },
     "metadata": {},
     "output_type": "display_data"
    },
    {
     "data": {
      "text/latex": [
       "$$\\dot{x}_2=- L_{1} \\operatorname{sin}\\left(\\alpha_{1}\\right) \\dot{\\alpha}_{1} - d_{2} \\left(\\dot{\\alpha}_{1} + \\dot{\\alpha}_{2}\\right) \\operatorname{sin}\\left(\\alpha_{1} + \\alpha_{2}\\right)$$"
      ],
      "text/plain": [
       "<IPython.core.display.Math object>"
      ]
     },
     "metadata": {},
     "output_type": "display_data"
    },
    {
     "data": {
      "text/latex": [
       "$$\\ddot{x}_2=- L_{1} \\operatorname{sin}\\left(\\alpha_{1}\\right) \\ddot{\\alpha}_{1} - L_{1} \\operatorname{cos}\\left(\\alpha_{1}\\right) \\dot{\\alpha}_{1}^{2} - d_{2} \\left(\\dot{\\alpha}_{1} + \\dot{\\alpha}_{2}\\right)^{2} \\operatorname{cos}\\left(\\alpha_{1} + \\alpha_{2}\\right) - d_{2} \\left(\\ddot{\\alpha}_{1} + \\ddot{\\alpha}_{2}\\right) \\operatorname{sin}\\left(\\alpha_{1} + \\alpha_{2}\\right)$$"
      ],
      "text/plain": [
       "<IPython.core.display.Math object>"
      ]
     },
     "metadata": {},
     "output_type": "display_data"
    },
    {
     "data": {
      "text/latex": [
       "$$y_2=L_{1} \\operatorname{sin}\\left(\\alpha_{1}\\right) + d_{2} \\operatorname{sin}\\left(\\alpha_{1} + \\alpha_{2}\\right)$$"
      ],
      "text/plain": [
       "<IPython.core.display.Math object>"
      ]
     },
     "metadata": {},
     "output_type": "display_data"
    },
    {
     "data": {
      "text/latex": [
       "$$\\dot{y}_2=L_{1} \\operatorname{cos}\\left(\\alpha_{1}\\right) \\dot{\\alpha}_{1} + d_{2} \\left(\\dot{\\alpha}_{1} + \\dot{\\alpha}_{2}\\right) \\operatorname{cos}\\left(\\alpha_{1} + \\alpha_{2}\\right)$$"
      ],
      "text/plain": [
       "<IPython.core.display.Math object>"
      ]
     },
     "metadata": {},
     "output_type": "display_data"
    },
    {
     "data": {
      "text/latex": [
       "$$\\ddot{y}_2=- L_{1} \\operatorname{sin}\\left(\\alpha_{1}\\right) \\dot{\\alpha}_{1}^{2} + L_{1} \\operatorname{cos}\\left(\\alpha_{1}\\right) \\ddot{\\alpha}_{1} - d_{2} \\left(\\dot{\\alpha}_{1} + \\dot{\\alpha}_{2}\\right)^{2} \\operatorname{sin}\\left(\\alpha_{1} + \\alpha_{2}\\right) + d_{2} \\left(\\ddot{\\alpha}_{1} + \\ddot{\\alpha}_{2}\\right) \\operatorname{cos}\\left(\\alpha_{1} + \\alpha_{2}\\right)$$"
      ],
      "text/plain": [
       "<IPython.core.display.Math object>"
      ]
     },
     "metadata": {},
     "output_type": "display_data"
    }
   ],
   "source": [
    "x2, y2 = L1*cos(a1) + d2*cos(a1+a2), L1*sin(a1) + d2*sin(a1+a2)\n",
    "x2d, y2d = x2.diff(t), y2.diff(t)\n",
    "x2dd, y2dd = x2d.diff(t), y2d.diff(t)\n",
    "\n",
    "display(Math(r'x_2=' + mlatex(x2)))\n",
    "display(Math(r'\\dot{x}_2=' + mlatex(x2d)))\n",
    "display(Math(r'\\ddot{x}_2=' + mlatex(x2dd)))\n",
    "display(Math(r'y_2=' + mlatex(y2)))\n",
    "display(Math(r'\\dot{y}_2=' + mlatex(y2d)))\n",
    "display(Math(r'\\ddot{y}_2=' + mlatex(y2dd)))"
   ]
  },
  {
   "cell_type": "markdown",
   "metadata": {},
   "source": [
    "Inspecting the equations above, we see a new kind of acceleration, proportional to $\\dot{\\alpha_1}\\dot{\\alpha_2}$. This acceleration is due to the [Coriolis effect](http://en.wikipedia.org/wiki/Coriolis_effect) and is  present only when there are movement in the two joints.\n",
    "\n",
    "### Kinetics\n",
    "\n",
    "From the free body diagrams, the Newton-Euler equations for the planar double inverted pendulum are:\n",
    "\n",
    "#### Link 2\n",
    " \n",
    "\\begin{equation}\n",
    "\\begin{array}{l l}\n",
    "F_{r2x} + F_{e,x} = m_2\\ddot{x}_{2} \\\\\n",
    "\\\\\n",
    "F_{r2y} - m_2g + F_{e,y} = m_2\\ddot{y}_{2} \\\\\n",
    "\\\\\n",
    "T_2 + d_2F_{r2x}\\sin(\\alpha_1+\\alpha_2) - d_2F_{r2y}\\cos(\\alpha_1+\\alpha_2) - (L_2-d_2)F_{e,x}\\sin(\\alpha_1+\\alpha_2) - (L_2-d_2)F_{e,y}\\cos(\\alpha_1+\\alpha_2) = I_{2}(\\ddot{\\alpha}_1+\\ddot{\\alpha}_2)\n",
    "\\end{array}\n",
    "\\label{}\n",
    "\\end{equation}\n",
    "\n",
    "#### Link 1\n",
    " \n",
    "\\begin{equation}\n",
    "\\begin{array}{l l}\n",
    "F_{r1x} - F_{r2x} = m_1\\ddot{x}_{1} \\\\\n",
    "\\\\\n",
    "F_{r1y} - F_{r2y} - m_1g = m_1\\ddot{y}_{1} \\\\\n",
    "\\\\\n",
    "T_1 - T_2 + d_1F_{r1x}\\sin\\alpha_1 - d_1F_{r1y}\\cos\\alpha_1 + (L_1-d_1)F_{r2x}\\sin\\alpha_1 - (L_1-d_1)F_{r2y}\\cos\\alpha_1 = I_{1}\\ddot{\\alpha}_1\n",
    "\\end{array}\n",
    "\\label{}\n",
    "\\end{equation}\n",
    "\n",
    "If we want to determine the joint torques and we know the kinematics of the links, the inverse dynamics approach, we isolate the joint torques in the equations above, start solving for link 2 and then link 1. To determine the kinematics knowing the joint torques, the direct dynamics approach, we isolate the joint angular accelerations in the equations above and solve the ordinary differential equations.\n",
    "\n",
    "Let's express the equations for the torques substituting the terms we know:"
   ]
  },
  {
   "cell_type": "code",
   "execution_count": 16,
   "metadata": {
    "ExecuteTime": {
     "end_time": "2018-08-09T05:41:42.694652Z",
     "start_time": "2018-08-09T05:41:42.690653Z"
    },
    "collapsed": true
   },
   "outputs": [],
   "source": [
    "m1, m2, I1, I2, g = symbols('m_1, m_2, I_1 I_2 g', positive=True)"
   ]
  },
  {
   "cell_type": "code",
   "execution_count": 17,
   "metadata": {
    "ExecuteTime": {
     "end_time": "2018-08-09T05:41:50.810005Z",
     "start_time": "2018-08-09T05:41:42.695651Z"
    },
    "collapsed": false
   },
   "outputs": [],
   "source": [
    "# link 2\n",
    "Fr2x = m2*x2dd - Fex\n",
    "Fr2y = m2*y2dd + m2*g - Fey\n",
    "T2 = I2*(a1dd+a2dd) - d2*Fr2x*sin(a1+a2) + d2*Fr2y*cos(a1+a2) + (L2-d2)*Fex*sin(a1+a2) - (L2-d2)*Fey*cos(a1+a2)\n",
    "T2 = simplify(T2)\n",
    "# link 1\n",
    "Fr1x = m1*x1dd + Fr2x\n",
    "Fr1y = m1*y1dd + Fr2y + m1*g\n",
    "T1 = I1*a1dd + T2 - d1*Fr1x*sin(a1) + d1*Fr1y*cos(a1) - (L1-d1)*Fr2x*sin(a1) + (L1-d1)*Fr2y*cos(a1)\n",
    "T1 = simplify(T1)"
   ]
  },
  {
   "cell_type": "markdown",
   "metadata": {},
   "source": [
    "The expressions for the joint moments of force (torques) are:"
   ]
  },
  {
   "cell_type": "code",
   "execution_count": 18,
   "metadata": {
    "ExecuteTime": {
     "end_time": "2018-08-09T05:41:50.835991Z",
     "start_time": "2018-08-09T05:41:50.811003Z"
    },
    "collapsed": false
   },
   "outputs": [
    {
     "data": {
      "text/latex": [
       "$$T_1\\quad = \\quad F_{ex} L_{1} \\operatorname{sin}\\left(\\alpha_{1}\\right) + F_{ex} L_{2} \\operatorname{sin}\\left(\\alpha_{1} + \\alpha_{2}\\right) - F_{ey} L_{1} \\operatorname{cos}\\left(\\alpha_{1}\\right) - F_{ey} L_{2} \\operatorname{cos}\\left(\\alpha_{1} + \\alpha_{2}\\right) + I_{1} \\ddot{\\alpha}_{1} + I_{2} \\ddot{\\alpha}_{1} + I_{2} \\ddot{\\alpha}_{2} + L_{1}^{2} m_{2} \\ddot{\\alpha}_{1} - 2 L_{1} d_{2} m_{2} \\operatorname{sin}\\left(\\alpha_{2}\\right) \\dot{\\alpha}_{1} \\dot{\\alpha}_{2} - L_{1} d_{2} m_{2} \\operatorname{sin}\\left(\\alpha_{2}\\right) \\dot{\\alpha}_{2}^{2} + 2 L_{1} d_{2} m_{2} \\operatorname{cos}\\left(\\alpha_{2}\\right) \\ddot{\\alpha}_{1} + L_{1} d_{2} m_{2} \\operatorname{cos}\\left(\\alpha_{2}\\right) \\ddot{\\alpha}_{2} + L_{1} g m_{2} \\operatorname{cos}\\left(\\alpha_{1}\\right) + d_{1}^{2} m_{1} \\ddot{\\alpha}_{1} + d_{1} g m_{1} \\operatorname{cos}\\left(\\alpha_{1}\\right) + d_{2}^{2} m_{2} \\ddot{\\alpha}_{1} + d_{2}^{2} m_{2} \\ddot{\\alpha}_{2} + d_{2} g m_{2} \\operatorname{cos}\\left(\\alpha_{1} + \\alpha_{2}\\right)$$"
      ],
      "text/plain": [
       "<IPython.core.display.Math object>"
      ]
     },
     "metadata": {},
     "output_type": "display_data"
    },
    {
     "data": {
      "text/latex": [
       "$$T_2\\quad = \\quad F_{ex} L_{2} \\operatorname{sin}\\left(\\alpha_{1} + \\alpha_{2}\\right) - F_{ey} L_{2} \\operatorname{cos}\\left(\\alpha_{1} + \\alpha_{2}\\right) + I_{2} \\ddot{\\alpha}_{1} + I_{2} \\ddot{\\alpha}_{2} + L_{1} d_{2} m_{2} \\operatorname{sin}\\left(\\alpha_{2}\\right) \\dot{\\alpha}_{1}^{2} + L_{1} d_{2} m_{2} \\operatorname{cos}\\left(\\alpha_{2}\\right) \\ddot{\\alpha}_{1} + d_{2}^{2} m_{2} \\ddot{\\alpha}_{1} + d_{2}^{2} m_{2} \\ddot{\\alpha}_{2} + d_{2} g m_{2} \\operatorname{cos}\\left(\\alpha_{1} + \\alpha_{2}\\right)$$"
      ],
      "text/plain": [
       "<IPython.core.display.Math object>"
      ]
     },
     "metadata": {},
     "output_type": "display_data"
    }
   ],
   "source": [
    "display(Math(r'T_1\\quad = \\quad ' + mlatex(T1)))\n",
    "display(Math(r'T_2\\quad = \\quad ' + mlatex(T2)))"
   ]
  },
  {
   "cell_type": "markdown",
   "metadata": {},
   "source": [
    "># Next class"
   ]
  },
  {
   "cell_type": "markdown",
   "metadata": {},
   "source": [
    "There is an elegant form to display the equations for the torques using generalized coordinates, $q=[\\alpha_1, \\alpha_2]^T$ and grouping the terms proportional to common quantities in matrices, see for example, Craig (2005, page 180), Pandy (2001), and Zatsiorsky (2002, page 383):\n",
    "\n",
    "\\begin{equation}\n",
    "\\begin{array}{l l}\n",
    "\\tau = M(q)\\ddot{q} + C(q,\\dot{q}) + G(q) + E(q,\\dot{q})\n",
    "\\end{array}\n",
    "\\label{}\n",
    "\\end{equation}\n",
    "\n",
    "Where, for this two-link system, $\\tau$ is a matrix (2x1) of joint torques; $M$ is the mass or inertia matrix (2x2); $\\ddot{q}$ is a matrix (2x1) of angular accelerations; $C$ is a matrix (2x1) of [centipetal](http://en.wikipedia.org/wiki/Centripetal_force) and [Coriolis](http://en.wikipedia.org/wiki/Coriolis_effect) torques; $G$ is a matrix (2x1) of  gravitational torques; and $E$ is a matrix (2x1) of external torques.   \n",
    "\n",
    "Let's use Sympy to display the equations for the torques in this new form:"
   ]
  },
  {
   "cell_type": "code",
   "execution_count": 19,
   "metadata": {
    "ExecuteTime": {
     "end_time": "2018-08-09T05:41:50.889959Z",
     "start_time": "2018-08-09T05:41:50.836990Z"
    },
    "collapsed": true
   },
   "outputs": [],
   "source": [
    "T1, T2 = T1.expand(), T2.expand()\n",
    "q1, q2 = dynamicsymbols('q_1 q_2')\n",
    "q1d, q2d = q1.diff(t), q2.diff(t)\n",
    "q1dd, q2dd = q1.diff(t, 2), q2.diff(t, 2)\n",
    "T1 = T1.subs({a1:q1, a2:q2, a1d:q1d, a2d:q2d, a1dd:q1dd, a2dd:q2dd})\n",
    "T2 = T2.subs({a1:q1, a2:q2, a1d:q1d, a2d:q2d, a1dd:q1dd, a2dd:q2dd})"
   ]
  },
  {
   "cell_type": "code",
   "execution_count": 20,
   "metadata": {
    "ExecuteTime": {
     "end_time": "2018-08-09T05:41:51.749467Z",
     "start_time": "2018-08-09T05:41:50.890958Z"
    },
    "collapsed": false
   },
   "outputs": [
    {
     "data": {
      "text/latex": [
       "$$\\begin{eqnarray}\\tau&=&\\begin{bmatrix}\\tau_1\\\\ \\tau_2\\\\ \\end{bmatrix} \\\\M(q)&=&\\left[\\begin{matrix}I_{1} + I_{2} + L_{1}^{2} m_{2} + 2 L_{1} d_{2} m_{2} \\operatorname{cos}\\left(q_{2}\\right) + d_{1}^{2} m_{1} + d_{2}^{2} m_{2} & I_{2} + L_{1} d_{2} m_{2} \\operatorname{cos}\\left(q_{2}\\right) + d_{2}^{2} m_{2}\\\\I_{2} + L_{1} d_{2} m_{2} \\operatorname{cos}\\left(q_{2}\\right) + d_{2}^{2} m_{2} & I_{2} + d_{2}^{2} m_{2}\\end{matrix}\\right]\\\\\\ddot{q}&=&\\left[\\begin{matrix}\\ddot{q}_{1}\\\\\\ddot{q}_{2}\\end{matrix}\\right]\\\\C(q,\\dot{q})&=&\\left[\\begin{matrix}- L_{1} d_{2} m_{2} \\left(2 \\dot{q}_{1} + \\dot{q}_{2}\\right) \\operatorname{sin}\\left(q_{2}\\right) \\dot{q}_{2}\\\\L_{1} d_{2} m_{2} \\operatorname{sin}\\left(q_{2}\\right) \\dot{q}_{1}^{2}\\end{matrix}\\right]\\\\G(q)&=&\\left[\\begin{matrix}g \\left(L_{1} m_{2} \\operatorname{cos}\\left(q_{1}\\right) + d_{1} m_{1} \\operatorname{cos}\\left(q_{1}\\right) + d_{2} m_{2} \\operatorname{cos}\\left(q_{1} + q_{2}\\right)\\right)\\\\d_{2} g m_{2} \\operatorname{cos}\\left(q_{1} + q_{2}\\right)\\end{matrix}\\right]\\\\E(q,\\dot{q})&=&\\left[\\begin{matrix}F_{ex} \\left(L_{1} \\operatorname{sin}\\left(q_{1}\\right) + L_{2} \\operatorname{sin}\\left(q_{1} + q_{2}\\right)\\right) - F_{ey} \\left(L_{1} \\operatorname{cos}\\left(q_{1}\\right) + L_{2} \\operatorname{cos}\\left(q_{1} + q_{2}\\right)\\right)\\\\L_{2} \\left(F_{ex} \\operatorname{sin}\\left(q_{1} + q_{2}\\right) - F_{ey} \\operatorname{cos}\\left(q_{1} + q_{2}\\right)\\right)\\end{matrix}\\right]\\end{eqnarray}$$"
      ],
      "text/plain": [
       "<IPython.core.display.Math object>"
      ]
     },
     "metadata": {},
     "output_type": "display_data"
    }
   ],
   "source": [
    "M = Matrix(((simplify(T1.coeff(q1dd)), simplify(T1.coeff(q2dd))),\n",
    "            (simplify(T2.coeff(q1dd)), simplify(T2.coeff(q2dd)))))\n",
    "C = Matrix((simplify(T1.coeff(q1d**2)*q1d**2 + T1.coeff(q2d**2)*q2d**2 + T1.coeff(q1d*q2d)*q1d*q2d),\n",
    "            simplify(T2.coeff(q1d**2)*q1d**2 + T2.coeff(q2d**2)*q2d**2 + T2.coeff(q1d*q2d)*q1d*q2d)))\n",
    "G = Matrix((simplify(T1.coeff(g)*g),\n",
    "            simplify(T2.coeff(g)*g)))\n",
    "E = Matrix((simplify(T1.coeff(Fex)*Fex + T1.coeff(Fey)*Fey),\n",
    "            simplify(T2.coeff(Fex)*Fex + T2.coeff(Fey)*Fey)))\n",
    "\n",
    "display(Math(r'\\begin{eqnarray}\\tau&=&\\begin{bmatrix}\\tau_1\\\\ \\tau_2\\\\ \\end{bmatrix} \\\\' +\n",
    "             r'M(q)&=&' + mlatex(M) + r'\\\\' +\n",
    "             r'\\ddot{q}&=&' + mlatex(Matrix((q1dd, q2dd))) + r'\\\\' +\n",
    "             r'C(q,\\dot{q})&=&' + mlatex(C) + r'\\\\' +\n",
    "             r'G(q)&=&' + mlatex(G) + r'\\\\' +\n",
    "             r'E(q,\\dot{q})&=&' + mlatex(E) + r'\\end{eqnarray}'))"
   ]
  },
  {
   "cell_type": "markdown",
   "metadata": {},
   "source": [
    "With this convention, to perform inverse dynamics we would calculate:\n",
    "\n",
    "\\begin{equation}\n",
    "\\tau = M(q)\\ddot{q} + C(q,\\dot{q}) + G(q) + E(q,\\dot{q})\n",
    "\\label{}\n",
    "\\end{equation}\n",
    "\n",
    "And for direct dynamics we would solve the differential equation:\n",
    "\n",
    "\\begin{equation}\n",
    "\\ddot{q} = M(q)^{-1} \\left[\\tau - C(q,\\dot{q}) - G(q) - E(q,\\dot{q}) \\right]\n",
    "\\label{}\n",
    "\\end{equation}\n",
    "\n",
    "The advantage of calculating analytically the derivatives of the position vector as function of the joint angles and using the notation above is that each term that contributes to each joint torque or acceleration can be easily identified. "
   ]
  },
  {
   "cell_type": "markdown",
   "metadata": {},
   "source": [
    "#### Coupling (or interaction) effects\n",
    "\n",
    "The two terms off the main diagonal in the inertia matrix (which are the same) and the centripetal and Coriolis terms represent the effects of the movement (nonzero velocity) of one joint over the other. These torques are referred as coupling or interaction effects (see for example Hollerbach and Flash (1982) for an application of this concept in the study of the motor control of the upper limb movement)."
   ]
  },
  {
   "cell_type": "markdown",
   "metadata": {},
   "source": [
    "#### Planar double pendulum\n",
    "\n",
    "Using the same equations above, one can represent a planar double pendulum (hanging from the top, not inverted) considering the angles $\\alpha_1$ and $\\alpha_2$ negative, e.g., at $\\alpha_1=-90^o$ and $\\alpha_2=0$ the pendulum is hanging vertical.\n"
   ]
  },
  {
   "cell_type": "markdown",
   "metadata": {},
   "source": [
    "#### WARNING: $F_r$ is not the actual joint reaction force!\n",
    "\n",
    "For these two examples, in the Newton-Euler equations based on the free body diagrams we represented the consequences of all possible muscle forces on a joint as a net muscle torque and all forces acting on a joint as a resultant joint reaction force. That is, all forces between segments were represented as a resultant force that doesn't generate torque and a force couple (or free moment) that only generates torque. This is an important principle in mechanics of rigid bodies, see for example [this text](http://nbviewer.ipython.org/github/demotu/BMC/blob/master/notebooks/FreeBodyDiagram.ipynb). However, this principle creates the unrealistic notion that the sum of forces is applied directly on the joint (which has no further implication for a rigid body), but it is inaccurate for the understanding of the local effects on the joint. So, if we are trying to understand the stress on the joint or mechanisms of joint injury, the forces acting on the joint and on the rest of the segment must be considered individually."
   ]
  },
  {
   "cell_type": "markdown",
   "metadata": {},
   "source": [
    "#### Determination of muscle force\n",
    "\n",
    "The torque $T$ exerted by a muscle is given by the product between the muscle-tendon moment arm $r$ and its force $F$. For the human body, there is more than one muscle crossing a joint and several joints. In such case, the torques due to the muscles are expressed in the following matrix form considering $n$ joints and $m$ muscles:\n",
    "\n",
    "\\begin{eqnarray}\n",
    "\\begin{bmatrix} T_1 \\\\ \\vdots \\\\ T_n \\end{bmatrix} = \\begin{bmatrix} r_{11} & \\cdots & r_{1m} \\\\ \\vdots & \\ddots & \\vdots \\\\ r_{n1} & \\cdots & r_{nm} \\end{bmatrix} \\begin{bmatrix} F_1 \\\\ \\vdots \\\\ F_m \\end{bmatrix}\n",
    "\\label{}\n",
    "\\end{eqnarray}\n",
    "\n",
    "Where $r_{nm}$ is the moment arm about joint $n$ of the muscle $m$.  \n",
    "In the example of the two-link system, we sketched two uniarticular muscles for each of the two joints, consequently:  \n",
    "\n",
    "\\begin{eqnarray}\n",
    "\\begin{bmatrix} T_1 \\\\ T_2 \\end{bmatrix} = \\begin{bmatrix} r_{1,ext} & -r_{1,flex} & 0 & 0 \\\\ 0 & 0 & r_{1,ext} & -r_{1,flex} \\end{bmatrix} \\begin{bmatrix} F_{1,ext} \\\\ F_{1,flex} \\\\ F_{2,ext} \\\\ F_{2,flex} \\end{bmatrix}\n",
    "\\label{}\n",
    "\\end{eqnarray} \n",
    "\n",
    "Note the opposite signs for the moment arms of the extension and flexion muscles hence they generate opposite torques. We could have represented the opposite signs in the muscle forces instead of in the moment arms.\n",
    "\n",
    "The moment arm of a muscle varies with the motion of the joints it crosses. In this case, using the [virtual work principle](http://en.wikipedia.org/wiki/Virtual_work) the moment arm can be given by (Sherman et al., 2013; Nigg and Herzog, 2006, page 634):\n",
    "\n",
    "\\begin{equation}\n",
    "r(q) = \\dfrac{\\partial L_{MT}(q)}{\\partial q}\n",
    "\\label{}\n",
    "\\end{equation}\n",
    "\n",
    "Where $L_{MT}(q)$ is the length of the muscle-tendon unit expressed as a function of angle $q$.\n",
    "\n",
    "For the simulation of human movement, muscles can be modeled as [Hill-type muscles](http://nbviewer.ipython.org/github/demotu/BMC/blob/master/notebooks/MuscleSimulation.ipynb), the torques they generate are given by the matrix above, and this matrix is entered in the ODE for a multibody system dynamics we deduced before:\n",
    "\n",
    "\\begin{equation}\n",
    "\\ddot{q} = M(q)^{-1} \\left[R_{MT}(q)F_{MT}(a,L_{MT},\\dot{L}_{MT}) - C(q,\\dot{q}) - G(q) - E(q,\\dot{q}) \\right]\n",
    "\\label{}\n",
    "\\end{equation}\n",
    "\n",
    "Where $R_{MT}$ and $F_{MT}$ are matrices for the moment arms and muscle-tendon forces, respectively.\n",
    "This ODE is then solved numerically given initial values; but this problem is far from trivial for a simulation with several segments and muscles."
   ]
  },
  {
   "cell_type": "markdown",
   "metadata": {},
   "source": [
    "## Numerical simulation\n",
    "\n",
    "Let's simulate a voluntary movement of the upper limb using the planar two-link system as a model in order to visualize the contribution of each torque term.  \n",
    "We will ignore the muscle dynamics and we will calculate the joint torques necessary to move the upper limb from one point to another under the assumption that the movement is performed with the smoothest trajectory possible. I.e., the movement is performed with a [minimum-jerk trajectory](http://nbviewer.ipython.org/github/demotu/BMC/blob/master/notebooks/MinimumJerkHypothesis.ipynb), a hypothesis about control of voluntary movements proposed by Flash and Hogan (1985).\n",
    "\n",
    "Once we determine the desired trajectory, we can calculate the velocity and acceleration of the segments and combine with anthropometric measures to calculate the joint torques necessary to move the segments. This means we will perform inverse dynamics. \n",
    "\n",
    "Let's simulate a slow (4 s) and a fast (0.5 s) movement of the upper limb starting at the anatomical neutral position (upper limb at the side of the trunk) and ending with the upper arm forward at horizontal and elbow flexed at 90 degrees.\n",
    "\n",
    "First, let's import the necessary Python libraries and customize the environment:"
   ]
  },
  {
   "cell_type": "code",
   "execution_count": 21,
   "metadata": {
    "ExecuteTime": {
     "end_time": "2018-08-09T05:41:52.053311Z",
     "start_time": "2018-08-09T05:41:51.750468Z"
    },
    "collapsed": true
   },
   "outputs": [],
   "source": [
    "import numpy as np\n",
    "%matplotlib inline\n",
    "import matplotlib\n",
    "import matplotlib.pyplot as plt\n",
    "matplotlib.rcParams['lines.linewidth'] = 3\n",
    "matplotlib.rcParams['font.size'] = 13\n",
    "matplotlib.rcParams['lines.markersize'] = 5\n",
    "matplotlib.rc('axes', grid=True, labelsize=14, titlesize=16, ymargin=0.05)\n",
    "matplotlib.rc('legend', numpoints=1, fontsize=11)\n",
    "import sys\n",
    "sys.path.insert(1, r'./../functions')  # add to pythonpath"
   ]
  },
  {
   "cell_type": "markdown",
   "metadata": {},
   "source": [
    "Let's take the anthropometric data from Dempster's model (see [Body segment parameters](http://nbviewer.ipython.org/github/demotu/BMC/blob/master/notebooks/BodySegmentParameters.ipynb)):"
   ]
  },
  {
   "cell_type": "code",
   "execution_count": 22,
   "metadata": {
    "ExecuteTime": {
     "end_time": "2018-08-09T05:41:52.058290Z",
     "start_time": "2018-08-09T05:41:52.054292Z"
    },
    "collapsed": true
   },
   "outputs": [],
   "source": [
    "height, mass = 1.70,               70  # m, kg\n",
    "L1n, L2n     = 0.188*height,       0.253*height\n",
    "d1n, d2n     = 0.436*L1n,          0.682*L2n\n",
    "m1n, m2n     = 0.0280*mass,        0.0220*mass\n",
    "rg1n, rg2n   = 0.322,              0.468\n",
    "I1n, I2n     = m1n*(rg1n*L1n)**2,  m2n*(rg2n*L2n)**2"
   ]
  },
  {
   "cell_type": "markdown",
   "metadata": {},
   "source": [
    "Considering these lengths, the initial and final positions of the endpoint (finger tip) for the simulated movement will be:"
   ]
  },
  {
   "cell_type": "code",
   "execution_count": 23,
   "metadata": {
    "ExecuteTime": {
     "end_time": "2018-08-09T05:41:52.070284Z",
     "start_time": "2018-08-09T05:41:52.059291Z"
    },
    "collapsed": true
   },
   "outputs": [],
   "source": [
    "xi, yi = 0, -L1n-L2n\n",
    "xf, yf = L1n, L2n\n",
    "gn = 9.81  # gravity acceleration m/s2"
   ]
  },
  {
   "cell_type": "markdown",
   "metadata": {},
   "source": [
    "### Slow movement"
   ]
  },
  {
   "cell_type": "code",
   "execution_count": 24,
   "metadata": {
    "ExecuteTime": {
     "end_time": "2018-08-09T05:41:52.086275Z",
     "start_time": "2018-08-09T05:41:52.071284Z"
    },
    "collapsed": true
   },
   "outputs": [],
   "source": [
    "duration = 4  # seconds"
   ]
  },
  {
   "cell_type": "markdown",
   "metadata": {},
   "source": [
    "The endpoint minimum jerk trajectory will be (see [Kinematic chain in a plane (2D)](http://nbviewer.ipython.org/github/demotu/BMC/blob/master/notebooks/KinematicChain.ipynb)):"
   ]
  },
  {
   "cell_type": "code",
   "execution_count": 25,
   "metadata": {
    "ExecuteTime": {
     "end_time": "2018-08-09T05:41:52.098268Z",
     "start_time": "2018-08-09T05:41:52.087274Z"
    },
    "collapsed": false
   },
   "outputs": [
    {
     "ename": "ImportError",
     "evalue": "No module named 'minjerk'",
     "output_type": "error",
     "traceback": [
      "\u001b[1;31m---------------------------------------------------------------------------\u001b[0m",
      "\u001b[1;31mImportError\u001b[0m                               Traceback (most recent call last)",
      "\u001b[1;32m<ipython-input-25-a017dc71d025>\u001b[0m in \u001b[0;36m<module>\u001b[1;34m()\u001b[0m\n\u001b[1;32m----> 1\u001b[1;33m \u001b[1;32mfrom\u001b[0m \u001b[0mminjerk\u001b[0m \u001b[1;32mimport\u001b[0m \u001b[0mminjerk\u001b[0m\u001b[1;33m\u001b[0m\u001b[0m\n\u001b[0m",
      "\u001b[1;31mImportError\u001b[0m: No module named 'minjerk'"
     ]
    }
   ],
   "source": [
    "from minjerk import minjerk"
   ]
  },
  {
   "cell_type": "code",
   "execution_count": null,
   "metadata": {
    "ExecuteTime": {
     "end_time": "2018-08-09T05:41:52.627964Z",
     "start_time": "2018-08-09T05:41:52.099268Z"
    },
    "collapsed": false
   },
   "outputs": [],
   "source": [
    "time, rlin, vlin, alin, jlin = minjerk([xi, yi], [xf, yf], duration=duration)"
   ]
  },
  {
   "cell_type": "markdown",
   "metadata": {},
   "source": [
    "Let's find the joint angles to produce this minimum-jerk trajectory (inverse kinematics):"
   ]
  },
  {
   "cell_type": "code",
   "execution_count": null,
   "metadata": {
    "ExecuteTime": {
     "end_time": "2018-08-09T05:41:52.631962Z",
     "start_time": "2018-08-09T05:41:52.628964Z"
    },
    "collapsed": true
   },
   "outputs": [],
   "source": [
    "from invkin2_2d import invkin"
   ]
  },
  {
   "cell_type": "code",
   "execution_count": null,
   "metadata": {
    "ExecuteTime": {
     "end_time": "2018-08-09T05:41:52.970768Z",
     "start_time": "2018-08-09T05:41:52.632960Z"
    },
    "collapsed": false
   },
   "outputs": [],
   "source": [
    "rang = invkin(time, rlin, L1=L1n, L2=L2n)"
   ]
  },
  {
   "cell_type": "markdown",
   "metadata": {},
   "source": [
    "For the joint torques, we need to calculate the angular velocity and acceleration. Let's do that using numerical differentiation:"
   ]
  },
  {
   "cell_type": "code",
   "execution_count": null,
   "metadata": {
    "ExecuteTime": {
     "end_time": "2018-08-09T05:41:53.201637Z",
     "start_time": "2018-08-09T05:41:52.971768Z"
    },
    "collapsed": false
   },
   "outputs": [],
   "source": [
    "def diff_c(ang, duration):\n",
    "    \"\"\"Numerical differentiations using the central difference for the angular data.\n",
    "    \"\"\"\n",
    "    # central difference (f(x+h)-f(x-h))/(2*h)\n",
    "    dt = duration/(ang.shape[0]-1)\n",
    "    vang = np.empty_like(rang)\n",
    "    aang = np.empty_like(rang)\n",
    "    vang[:, 0] = np.gradient(rang[:, 0], dt)\n",
    "    vang[:, 1] = np.gradient(rang[:, 1], dt)\n",
    "    aang[:, 0] = np.gradient(vang[:, 0], dt)\n",
    "    aang[:, 1] = np.gradient(vang[:, 1], dt)\n",
    "    \n",
    "    _, ax = plt.subplots(1, 3, sharex=True, figsize=(10, 3))\n",
    "    ax[0].plot(time, rang*180/np.pi)\n",
    "    ax[0].legend(['Ang 1', 'Ang 2'], framealpha=.5, loc='best')\n",
    "    ax[1].plot(time, vang*180/np.pi)\n",
    "    ax[2].plot(time, aang*180/np.pi)\n",
    "    ylabel = [r'Displacement [$\\mathrm{^o}$]', r'Velocity [$\\mathrm{^o/s}$]', r'Acceleration [$\\mathrm{^o/s^2}$]']\n",
    "    for i, axi in enumerate(ax):\n",
    "        axi.set_xlabel('Time [$s$]')\n",
    "        axi.set_ylabel(ylabel[i])\n",
    "        axi.xaxis.set_major_locator(plt.MaxNLocator(4))\n",
    "        axi.yaxis.set_major_locator(plt.MaxNLocator(4))\n",
    "    plt.tight_layout()\n",
    "    plt.show()\n",
    "\n",
    "    return vang, aang\n",
    "\n",
    "vang, aang = diff_c(rang, duration)"
   ]
  },
  {
   "cell_type": "code",
   "execution_count": null,
   "metadata": {
    "ExecuteTime": {
     "end_time": "2018-08-09T05:41:53.214629Z",
     "start_time": "2018-08-09T05:41:53.202636Z"
    },
    "collapsed": true
   },
   "outputs": [],
   "source": [
    "def dyna(time, L1n, L2n, d1n, d2n, m1n, m2n, gn, I1n, I2n, q1, q2, rang, vang, aang, Fexn, Feyn, M, C, G, E):\n",
    "    \"\"\"Numerical calculation and plot for the torques of a planar two-link system.\n",
    "    \"\"\"\n",
    "    from sympy import lambdify, symbols\n",
    "    \n",
    "    Mfun  = lambdify((I1, I2, L1, L2, d1, d2, m1, m2, q1, q2), M, 'numpy')\n",
    "    Mn    = Mfun(I1n, I2n, L1n, L2n, d1n, d2n, m1n, m2n, rang[:, 0], rang[:, 1])\n",
    "    M00   = Mn[0, 0]*aang[:, 0]\n",
    "    M01   = Mn[0, 1]*aang[:, 1]\n",
    "    M10   = Mn[1, 0]*aang[:, 0]\n",
    "    M11   = Mn[1, 1]*aang[:, 1]\n",
    "    Q1d, Q2d = symbols('Q1d Q2d')\n",
    "    dicti = {q1.diff(t, 1):Q1d, q2.diff(t, 1):Q2d}\n",
    "    C0fun = lambdify((L1, d2, m2, q2, Q1d, Q2d), C[0].subs(dicti), 'numpy')\n",
    "    C0    = C0fun(L1n, d2n, m2n, rang[:, 1], vang[:, 0], vang[:, 1])\n",
    "    C1fun = lambdify((L1, d2, m2, q2, Q1d, Q2d), C[1].subs(dicti), 'numpy')\n",
    "    C1    = C1fun(L1n, d2n, m2n, rang[:, 1], vang[:, 0], vang[:, 1])\n",
    "    G0fun = lambdify((L1, d1, d2, m1, m2, g, q1, q2), G[0], 'numpy')\n",
    "    G0    = G0fun(L1n, d1n, d2n, m1n, m2n, gn, rang[:, 0], rang[:, 1])\n",
    "    G1fun = lambdify((L1, d1, d2, m1, m2, g, q1, q2), G[1], 'numpy')\n",
    "    G1    = G1fun(L1n, d1n, d2n, m1n, m2n, gn, rang[:, 0], rang[:, 1])\n",
    "    E0fun = lambdify((L1, L2, q1, q2, Fex, Fey), E[0], 'numpy')\n",
    "    E0    = E0fun(L1n, L2n, rang[:, 0], rang[:, 1], 0, 0)\n",
    "    E1fun = lambdify((L1, L2, q1, q2, Fex, Fey), E[1], 'numpy')\n",
    "    E1    = E1fun(L1n, L2n, rang[:, 0], rang[:, 1], Fexn, Feyn)\n",
    "    \n",
    "    fig, ax = plt.subplots(1, 2, sharex=True, squeeze=True, figsize=(10, 4))\n",
    "    ax[0].plot(time, M00+M01)\n",
    "    ax[0].plot(time, C0)\n",
    "    ax[0].plot(time, G0)\n",
    "    ax[0].plot(time, E0)\n",
    "    ax[0].plot(time, M00+M01+C0+G0, 'k:', linewidth=4)\n",
    "    ax[0].set_ylabel(r'Torque [Nm]')\n",
    "    ax[0].set_title('Joint 1')\n",
    "    ax[1].plot(time, M10+M11, label='Mass/Inertia')\n",
    "    ax[1].plot(time, C1, label='Centripetal/Coriolis       ')\n",
    "    ax[1].plot(time, G1, label='Gravitational')\n",
    "    ax[1].plot(time, E1, label='External')\n",
    "    ax[1].plot(time, M10+M11+C1+G1, 'k:', linewidth=4, label='Muscular (sum)')\n",
    "    ax[1].set_title('Joint 2')\n",
    "    fig.legend(framealpha=.5, bbox_to_anchor=(1.15, 0.95), fontsize=12)    \n",
    "    for i, axi in enumerate(ax):\n",
    "        axi.set_xlabel('Time [$s$]')\n",
    "        axi.xaxis.set_major_locator(plt.MaxNLocator(4))\n",
    "        axi.yaxis.set_major_locator(plt.MaxNLocator(4))\n",
    "    plt.show()\n",
    "    \n",
    "    return M00, M01, M10, M11, C0, C1, G0, G1, E0, E1"
   ]
  },
  {
   "cell_type": "code",
   "execution_count": null,
   "metadata": {
    "ExecuteTime": {
     "end_time": "2018-08-09T05:41:53.437521Z",
     "start_time": "2018-08-09T05:41:53.215628Z"
    },
    "collapsed": false
   },
   "outputs": [],
   "source": [
    "Fexn, Feyn = 0, 0\n",
    "M00, M01, M10, M11, C0, C1, G0, G1, E0, E1 = dyna(time, L1n, L2n, d1n, d2n, m1n, m2n, gn, I1n, I2n,\n",
    "                                                  q1, q2, rang, vang, aang, Fexn, Feyn, M, C, G, E)"
   ]
  },
  {
   "cell_type": "markdown",
   "metadata": {},
   "source": [
    "The joint torques essentially compensate the gravitational torque."
   ]
  },
  {
   "cell_type": "markdown",
   "metadata": {},
   "source": [
    "### Fast movement \n",
    "\n",
    "Let's see what is changed for a fast movement:"
   ]
  },
  {
   "cell_type": "code",
   "execution_count": null,
   "metadata": {
    "ExecuteTime": {
     "end_time": "2018-08-09T05:41:54.530876Z",
     "start_time": "2018-08-09T05:41:53.438499Z"
    },
    "collapsed": false
   },
   "outputs": [],
   "source": [
    "duration = 0.5  # seconds\n",
    "time, rlin, vlin, alin, jlin = minjerk([xi, yi], [xf, yf], duration=duration)\n",
    "rang = invkin(time, rlin, L1=L1n, L2=L2n)\n",
    "vang, aang = diff_c(rang, duration)\n",
    "M00, M01, M10, M11, C0, C1, G0, G1, E0, E1 = dyna(time, L1n, L2n, d1n, d2n, m1n, m2n, gn, I1n, I2n,\n",
    "                                                  q1, q2, rang, vang, aang, Fexn, Feyn, M, C, G, E)"
   ]
  },
  {
   "cell_type": "markdown",
   "metadata": {},
   "source": [
    "The interaction torques are larger than the gravitational torques for most part of the movement."
   ]
  },
  {
   "cell_type": "markdown",
   "metadata": {},
   "source": [
    "### Fast movement in the horizontal plane\n",
    "\n",
    "Let's simulate a fast movement in the horizontal plane:"
   ]
  },
  {
   "cell_type": "code",
   "execution_count": null,
   "metadata": {
    "ExecuteTime": {
     "end_time": "2018-08-09T05:41:54.733779Z",
     "start_time": "2018-08-09T05:41:54.531874Z"
    },
    "collapsed": false
   },
   "outputs": [],
   "source": [
    "gn = 0  # gravity acceleration m/s2\n",
    "M00, M01, M10, M11, C0, C1, G0, G1, E0, E1 = dyna(time, L1n, L2n, d1n, d2n, m1n, m2n, gn, I1n, I2n,\n",
    "                                                  q1, q2, rang, vang, aang, Fexn, Feyn, M, C, G, E)"
   ]
  },
  {
   "cell_type": "markdown",
   "metadata": {},
   "source": [
    "## Exercises\n",
    "\n",
    "1. Derive the equations of motion for a single pendulum (not inverted).  \n",
    "2. Derive the equations of motion for a double pendulum (not inverted).  \n",
    "3. Consider the double pendulum moving in the horizontal plane and with no external force. Find out the type of movement and which torque terms are changed when:   \n",
    "  a) $\\dot{\\alpha}_1=0^o$  \n",
    "  b) $\\alpha_2=0^o$  \n",
    "  c) $\\dot{\\alpha}_2=0^o$  \n",
    "  d) $2\\alpha_1+\\alpha_2=180^o$ (hint: a two-link system with this configuration is called polar manipulator)\n",
    "4. Derive the equations of motion and the torque terms using angles in the segmental space $(\\theta_1,\\,\\theta_2)$.  \n",
    "5. Run the numerical simulations for the torques with different parameters."
   ]
  },
  {
   "cell_type": "markdown",
   "metadata": {},
   "source": [
    "## References\n",
    "\n",
    "- Craig JJ (2005) [Introduction to Robotics: Mechanics and Control](http://books.google.com.br/books?id=MqMeAQAAIAAJ). 3rd Edition. Prentice Hall.  \n",
    "- Flash T, Hogan N (1985) [The coordination of arm movements: an experimentally confirmed mathematical model](http://www.jneurosci.org/cgi/reprint/5/7/1688.pdf). Journal of Neuroscience, 5, 1688-1703.   \n",
    "- Hollerbach JM, Flash T (1982) [Dynamic interactions between limb segments during planar arm movement](http://link.springer.com/article/10.1007%2FBF00353957). Biological Cybernetics, 44, 67-77.  \n",
    "- Nigg BM and Herzog W (2006) [Biomechanics of the Musculo-skeletal System](https://books.google.com.br/books?id=hOIeAQAAIAAJ&dq=editions:ISBN0470017678). 3rd Edition. Wiley.  \n",
    "- Pandy MG (2001) [Computer modeling and simulation](https://drive.google.com/open?id=0BxbW72zV7WmUbXZBR2VRMnF5UTA&authuser=0). Annu. Rev. Biomed. Eng., 3, 245–73.  \n",
    "- Sherman MA, Seth A, Delp SL (2013) [What is a moment arm? Calculating muscle effectiveness in biomechanical models using generalized coordinates](http://simtk-confluence.stanford.edu:8080/download/attachments/3376330/ShermanSethDelp-2013-WhatIsMuscleMomentArm-Final2-DETC2013-13633.pdf?version=1&modificationDate=1369103515834) in Proc. ASME Int. Design Engineering Technical Conferences (IDETC), Portland, OR, USA.  \n",
    "- Zajac FE (1993) [Muscle coordination of movement: a perspective](http://e.guigon.free.fr/rsc/article/Zajac93.pdf). J Biomech., 26, Suppl 1:109-24.  \n",
    "- Zajac FE, Gordon ME (1989) [Determining muscle's force and action in multi-articular movement](https://drive.google.com/open?id=0BxbW72zV7WmUcC1zSGpEOUxhWXM&authuser=0). Exercise and Sport Sciences Reviews, 17, 187-230.  \n",
    "- Zatsiorsky VM (2002) [Kinetics of human motion](http://books.google.com.br/books?id=wp3zt7oF8a0C). Human Kinetics."
   ]
  }
 ],
 "metadata": {
  "anaconda-cloud": {},
  "hide_input": false,
  "kernelspec": {
   "display_name": "Python 3",
   "language": "python",
   "name": "python3"
  },
  "language_info": {
   "codemirror_mode": {
    "name": "ipython",
    "version": 3
   },
   "file_extension": ".py",
   "mimetype": "text/x-python",
   "name": "python",
   "nbconvert_exporter": "python",
   "pygments_lexer": "ipython3",
   "version": "3.5.1"
  },
  "varInspector": {
   "cols": {
    "lenName": 16,
    "lenType": 16,
    "lenVar": 40
   },
   "kernels_config": {
    "python": {
     "delete_cmd_postfix": "",
     "delete_cmd_prefix": "del ",
     "library": "var_list.py",
     "varRefreshCmd": "print(var_dic_list())"
    },
    "r": {
     "delete_cmd_postfix": ") ",
     "delete_cmd_prefix": "rm(",
     "library": "var_list.r",
     "varRefreshCmd": "cat(var_dic_list()) "
    }
   },
   "types_to_exclude": [
    "module",
    "function",
    "builtin_function_or_method",
    "instance",
    "_Feature"
   ],
   "window_display": false
  }
 },
 "nbformat": 4,
 "nbformat_minor": 1
}
