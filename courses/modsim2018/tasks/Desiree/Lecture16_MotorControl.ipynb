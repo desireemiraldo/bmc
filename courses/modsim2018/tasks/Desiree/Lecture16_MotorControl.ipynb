{
 "cells": [
  {
   "cell_type": "markdown",
   "metadata": {},
   "source": [
    "## Lecture 16 - Motor Control\n",
    "### Introduction to modeling and simulation of human movement\n",
    "https://github.com/BMClab/bmc/blob/master/courses/ModSim2018.md"
   ]
  },
  {
   "cell_type": "markdown",
   "metadata": {},
   "source": [
    "Desiree Miraldo  \n",
    "\n",
    "* Lecture 16:\n",
    "\n",
    "Human body balance - Inverted pendulum"
   ]
  },
  {
   "cell_type": "code",
   "execution_count": 1,
   "metadata": {
    "collapsed": false
   },
   "outputs": [],
   "source": [
    "import numpy as np\n",
    "import pandas as pd\n",
    "import matplotlib.pyplot as plt\n",
    "import math\n",
    "from Muscle1 import Muscle\n",
    "\n",
    "%matplotlib inline \n",
    "#notebook"
   ]
  },
  {
   "cell_type": "markdown",
   "metadata": {},
   "source": [
    "### Subject's anthropometrics"
   ]
  },
  {
   "cell_type": "markdown",
   "metadata": {},
   "source": [
    "From Thelen(2003) - dorsiflexors:"
   ]
  },
  {
   "cell_type": "markdown",
   "metadata": {},
   "source": [
    "Using BSP values from Dempster's model adapted by Winter (2009), available in [BodySegmentParameters.ipynb](https://github.com/BMClab/bmc/blob/master/notebooks/BodySegmentParameters.ipynb)"
   ]
  },
  {
   "cell_type": "code",
   "execution_count": 2,
   "metadata": {
    "collapsed": true
   },
   "outputs": [],
   "source": [
    "m = 75 #kg\n",
    "#g = 9.81 #(m/s^2)\n",
    "Lfoot = 26e-2 #(m)\n",
    "mfoot = 0.0145*m #0.0145 from column Mass (kg)\n",
    "Rcm = 0.5* Lfoot #0.5 from column CM prox (m)\n",
    "Rhcm = .85\n",
    "Ifoot = mfoot*(.69*Lfoot)**2 #0.690 from column Rg prox (kg*m^2)\n",
    "\n",
    "hbody = 175e-2 #(m)\n",
    "Rhcm = .5*hbody #distance from ankle joint to CoM\n",
    "Ibody = 4/3*m*Rhcm**2 \n"
   ]
  },
  {
   "cell_type": "code",
   "execution_count": null,
   "metadata": {
    "collapsed": false
   },
   "outputs": [],
   "source": []
  },
  {
   "cell_type": "code",
   "execution_count": 3,
   "metadata": {
    "collapsed": false
   },
   "outputs": [
    {
     "data": {
      "text/plain": [
       "76.5625"
      ]
     },
     "execution_count": 3,
     "metadata": {},
     "output_type": "execute_result"
    }
   ],
   "source": [
    "Ibody"
   ]
  },
  {
   "cell_type": "markdown",
   "metadata": {},
   "source": [
    "### Initial conditions"
   ]
  },
  {
   "cell_type": "code",
   "execution_count": 4,
   "metadata": {
    "collapsed": true
   },
   "outputs": [],
   "source": [
    "phi = 0 #start as 0 degree flexion (rad)\n",
    "phid = 0 #zero velocity\n",
    "\n",
    "t0 = 0 #Initial time\n",
    "tf = 10 #Final Time\n",
    "h = 1e-4 #integration step size and step counter"
   ]
  },
  {
   "cell_type": "code",
   "execution_count": 5,
   "metadata": {
    "collapsed": true
   },
   "outputs": [],
   "source": [
    "t = np.arange(t0,tf,h)\n",
    "F = np.empty([2,t.shape[-1]])\n",
    "Fkpe = np.empty([2,t.shape[-1]])\n",
    "FiberLen = np.empty([2,t.shape[-1]])\n",
    "TendonLen = np.empty([2,t.shape[-1]])\n",
    "fiberVelocity = np.empty([2,t.shape[-1]])\n",
    "a_dynamics = np.empty([2,t.shape[-1]])\n",
    "phi_dynamics = np.empty(t.shape)\n",
    "moment     = np.empty(t.shape)"
   ]
  },
  {
   "cell_type": "markdown",
   "metadata": {},
   "source": [
    "#### Activation dynamics parameters"
   ]
  },
  {
   "cell_type": "code",
   "execution_count": 6,
   "metadata": {
    "collapsed": true
   },
   "outputs": [],
   "source": [
    "# defining u (Initial conditional for Brain's activation)\n",
    "form = 'step'\n",
    "\n",
    "def createinput_u(form,t,h=.01,plot=True):\n",
    "    if (form == 'sinusoid'):\n",
    "        u = .2*np.sin(np.pi*t) +.7\n",
    "    elif (form == 'step'):\n",
    "        u = np.ones[2,t.shape[-1]]*h\n",
    "        u[:int(1/h)] = 0\n",
    "        u[int(1/h):int(3/h)] = 1\n",
    "\n",
    "    elif (form == 'pulse'):\n",
    "        u = np.ones[2,t.shape[-1]]*h\n",
    "        u[int(1/h):int(3/h)] = 1\n",
    "\n",
    "    if plot:\n",
    "        plt.figure()\n",
    "        plt.plot(u)\n",
    "        plt.title('u wave form')\n",
    "    return u   \n",
    "\n",
    "#u = createinput_u(form,h)\n",
    "u = np.ones(t.shape[-1])/1"
   ]
  },
  {
   "cell_type": "code",
   "execution_count": 7,
   "metadata": {
    "collapsed": true
   },
   "outputs": [],
   "source": [
    "kp = 5\n",
    "kd = 1 \n",
    "phiRef = 5*np.pi/180 #(deg)"
   ]
  },
  {
   "cell_type": "markdown",
   "metadata": {},
   "source": [
    "#### Coeficients from Elias(2014)"
   ]
  },
  {
   "cell_type": "code",
   "execution_count": 8,
   "metadata": {
    "collapsed": true
   },
   "outputs": [],
   "source": [
    "#parameters from Elias(2014) (meter/deg^ind)\n",
    "A_TA = np.array([30.60,-7.44e-2,-1.41e-4,2.42e-6,1.50e-8])*1e-2 \n",
    "B_TA = np.array([4.30,1.66e-2,-3.89e-4,-4.45e-6,-4.34e-8])*1e-2\n",
    "A_SO = np.array([32.30, 7.22e-2, -2.24e-4, -3.15e-6, 9.27e-9])*1e-2\n",
    "B_SO = np.array([-4.10, 2.57e-2, 5.45e-4, -2.22e-6, -5.50e-9])*1e-2\n",
    "A_MG = np.array([46.40, 7.48e-2, -1.13e-4, -3.50e-6, 7.35e-9])*1e-2\n",
    "A_MG = np.array([24.30, 1.30e-2, 6.08e-4, -1.87e-6, -1.02e-8])*1e-2\n",
    "A_LG = np.array([45.50, 7.62e-2, -1.25e-4, -3.55e-6, 7.65e-9])*1e-2 \n",
    "B_LG = np.array([24.40, 1.44e-2, 6.18e-4, -1.94e-6, -1.02e-8])*1e-2 "
   ]
  },
  {
   "cell_type": "code",
   "execution_count": 9,
   "metadata": {
    "collapsed": true
   },
   "outputs": [],
   "source": [
    "# Using muscle specific parameters from Thelen(2003) - Table 2\n",
    "\n",
    "dorsiflexor = Muscle(Lce_o=.09, Lslack=2.4, alpha=7*np.pi/180, Fmax=1400, dt=h)\n",
    "soleus = Muscle(Lce_o=.049, Lslack=5.9, alpha=25*np.pi/180, Fmax=3150, dt=h)\n",
    "#soleus = Muscle(Lce_o=.03, Lslack=8.8, alpha=25*np.pi/180, Fmax=3150, dt=h)\n",
    "gastroc = Muscle(Lce_o=.05, Lslack=8.3, alpha=14*np.pi/180, Fmax=1750, dt=h)\n",
    "plantarflexor = Muscle(Lce_o=.031, Lslack=10, alpha=12*np.pi/180, Fmax=3150, dt=h)"
   ]
  },
  {
   "cell_type": "code",
   "execution_count": 10,
   "metadata": {
    "collapsed": false
   },
   "outputs": [
    {
     "data": {
      "text/plain": [
       "8050"
      ]
     },
     "execution_count": 10,
     "metadata": {},
     "output_type": "execute_result"
    }
   ],
   "source": [
    "soleus.Fmax = soleus.Fmax + gastroc.Fmax + plantarflexor.Fmax\n",
    "soleus.Fmax"
   ]
  },
  {
   "cell_type": "code",
   "execution_count": 11,
   "metadata": {
    "collapsed": true
   },
   "outputs": [],
   "source": [
    "#dorsiflexor.Lnorm_ce = .087/dorsiflexor.Lce_o\n",
    "#soleus.Lnorm_ce = .087/soleus.Lce_o\n",
    "dorsiflexor.Lnorm_ce = 1#((A_TA[0]-dorsiflexor.Lslack)/np.cos(dorsiflexor.alpha))/dorsiflexor.Lce_o\n",
    "soleus.Lnorm_ce = 1#((A_SO[0]-soleus.Lslack)/np.cos(soleus.alpha))/soleus.Lce_o\n"
   ]
  },
  {
   "cell_type": "code",
   "execution_count": null,
   "metadata": {
    "collapsed": true
   },
   "outputs": [],
   "source": []
  },
  {
   "cell_type": "markdown",
   "metadata": {},
   "source": [
    "## Functions"
   ]
  },
  {
   "cell_type": "code",
   "execution_count": 12,
   "metadata": {
    "collapsed": true
   },
   "outputs": [],
   "source": [
    "def totalMuscleLength(phi,A):\n",
    "    '''\n",
    "    Compute length Muscle+tendon - Eq. 8 from Elias(2014)\n",
    "    \n",
    "    Inputs:\n",
    "        A = parameters from Elias(2014) (meter/deg^ind)\n",
    "        thetaAnkle = angle of ankle\n",
    "    Output:\n",
    "        Lm = length Muscle+tendon\n",
    "    \n",
    "    '''\n",
    "    phi = phi*180/np.pi\n",
    "    \n",
    "    Lm = 0\n",
    "    for i in range(len(A)):\n",
    "        Lm += A[i]*(phi**i)\n",
    "    \n",
    "    return Lm   \n",
    "    "
   ]
  },
  {
   "cell_type": "code",
   "execution_count": 13,
   "metadata": {
    "collapsed": true
   },
   "outputs": [],
   "source": [
    "def momentArm(phi,B):\n",
    "    '''\n",
    "    Compute moment arm of muscle - Eq. 9 from Elias(2014)\n",
    "    \n",
    "    Inputs:\n",
    "        A = parameters from Elias(2014) (meter/deg^ind)\n",
    "        B = parameters from Elias(2014) (meter/deg^ind)\n",
    "    Output:\n",
    "        Lm = length Muscle+tendon\n",
    "    '''\n",
    "    \n",
    "    phi = phi*180/np.pi\n",
    "    \n",
    "    Rf = 0\n",
    "    for i in range(len(B)):\n",
    "        Rf += B[i]*(phi**i) #Eq. 9 from Elias(2014)\n",
    "    \n",
    "    return Rf   \n",
    "    "
   ]
  },
  {
   "cell_type": "code",
   "execution_count": 14,
   "metadata": {
    "collapsed": true
   },
   "outputs": [],
   "source": [
    "def momentJoint(Rf_TA, Fnorm_tendon_TA, Fmax_TA, Rf_SOL, Fnorm_tendon_SOL, Fmax_SOL, Rcm,m, phi):\n",
    "    \n",
    "    g = 9.81 #(m/s^2)\n",
    "    \n",
    "    '''\n",
    "    Inputs:\n",
    "        Rf = Moment arm\n",
    "        Fnorm_tendon = Normalized tendon force\n",
    "        m = Segment Mass\n",
    "        g = Acelleration of gravity\n",
    "        Fmax= maximal isometric force\n",
    "        phi = angle (deg)\n",
    "    Output:\n",
    "        M = Total moment with respect to joint\n",
    "    '''\n",
    "    M = Rf_TA*Fnorm_tendon_TA*Fmax_TA + Rf_SOL*Fnorm_tendon_SOL*Fmax_SOL + m*g*Rcm*np.sin(phi)\n",
    "    return M"
   ]
  },
  {
   "cell_type": "code",
   "execution_count": 15,
   "metadata": {
    "collapsed": true
   },
   "outputs": [],
   "source": [
    "def angularAcelerationJoint(M,I):\n",
    "    '''\n",
    "    Inputs:\n",
    "        M = Total moment with respect to joint\n",
    "        I = Moment of Inertia\n",
    "    Output:\n",
    "        phidd= angular aceleration of the joint\n",
    "    '''\n",
    "    phidd = M/I\n",
    "    return phidd"
   ]
  },
  {
   "cell_type": "markdown",
   "metadata": {},
   "source": [
    "### Check initial conditions"
   ]
  },
  {
   "cell_type": "code",
   "execution_count": null,
   "metadata": {
    "collapsed": true
   },
   "outputs": [],
   "source": []
  },
  {
   "cell_type": "markdown",
   "metadata": {},
   "source": [
    "## Simulation"
   ]
  },
  {
   "cell_type": "code",
   "execution_count": 16,
   "metadata": {
    "collapsed": false
   },
   "outputs": [
    {
     "ename": "TypeError",
     "evalue": "unsupported operand type(s) for /: 'float' and 'NoneType'",
     "output_type": "error",
     "traceback": [
      "\u001b[1;31m---------------------------------------------------------------------------\u001b[0m",
      "\u001b[1;31mTypeError\u001b[0m                                 Traceback (most recent call last)",
      "\u001b[1;32m<ipython-input-16-0fbc4b5ac459>\u001b[0m in \u001b[0;36m<module>\u001b[1;34m()\u001b[0m\n\u001b[0;32m     18\u001b[0m \u001b[1;33m\u001b[0m\u001b[0m\n\u001b[0;32m     19\u001b[0m     \u001b[0mdorsiflexor\u001b[0m\u001b[1;33m.\u001b[0m\u001b[0mupdateMuscle\u001b[0m\u001b[1;33m(\u001b[0m\u001b[0mLm\u001b[0m\u001b[1;33m=\u001b[0m\u001b[0mLmTA\u001b[0m\u001b[1;33m,\u001b[0m \u001b[0mu\u001b[0m\u001b[1;33m=\u001b[0m\u001b[0muTA\u001b[0m\u001b[1;33m)\u001b[0m\u001b[1;33m\u001b[0m\u001b[0m\n\u001b[1;32m---> 20\u001b[1;33m     \u001b[0msoleus\u001b[0m\u001b[1;33m.\u001b[0m\u001b[0mupdateMuscle\u001b[0m\u001b[1;33m(\u001b[0m\u001b[0mLm\u001b[0m\u001b[1;33m=\u001b[0m\u001b[0mLmSOL\u001b[0m\u001b[1;33m,\u001b[0m \u001b[0mu\u001b[0m\u001b[1;33m=\u001b[0m\u001b[0muSOL\u001b[0m\u001b[1;33m)\u001b[0m\u001b[1;33m\u001b[0m\u001b[0m\n\u001b[0m\u001b[0;32m     21\u001b[0m \u001b[1;33m\u001b[0m\u001b[0m\n\u001b[0;32m     22\u001b[0m \u001b[1;33m\u001b[0m\u001b[0m\n",
      "\u001b[1;32mC:\\Users\\desiree.miraldo\\Documents\\GitHub\\bmc\\courses\\modsim2018\\tasks\\Desiree\\Muscle1.py\u001b[0m in \u001b[0;36mupdateMuscle\u001b[1;34m(self, Lm, u)\u001b[0m\n\u001b[0;32m    187\u001b[0m \u001b[1;33m\u001b[0m\u001b[0m\n\u001b[0;32m    188\u001b[0m         \u001b[1;31m#calculate CE velocity from Hill's equation\u001b[0m\u001b[1;33m\u001b[0m\u001b[1;33m\u001b[0m\u001b[0m\n\u001b[1;32m--> 189\u001b[1;33m         \u001b[0mself\u001b[0m\u001b[1;33m.\u001b[0m\u001b[0mContractileElementDot\u001b[0m\u001b[1;33m(\u001b[0m\u001b[1;33m)\u001b[0m\u001b[1;33m\u001b[0m\u001b[0m\n\u001b[0m\u001b[0;32m    190\u001b[0m \u001b[1;33m\u001b[0m\u001b[0m\n\u001b[0;32m    191\u001b[0m         \u001b[0mself\u001b[0m\u001b[1;33m.\u001b[0m\u001b[0mLnorm_ce\u001b[0m \u001b[1;33m=\u001b[0m \u001b[0mself\u001b[0m\u001b[1;33m.\u001b[0m\u001b[0mLnorm_ce\u001b[0m \u001b[1;33m+\u001b[0m \u001b[0mself\u001b[0m\u001b[1;33m.\u001b[0m\u001b[0mdt\u001b[0m\u001b[1;33m*\u001b[0m\u001b[0mself\u001b[0m\u001b[1;33m.\u001b[0m\u001b[0mLnorm_cedot\u001b[0m\u001b[1;33m\u001b[0m\u001b[0m\n",
      "\u001b[1;32mC:\\Users\\desiree.miraldo\\Documents\\GitHub\\bmc\\courses\\modsim2018\\tasks\\Desiree\\Muscle1.py\u001b[0m in \u001b[0;36mContractileElementDot\u001b[1;34m(self)\u001b[0m\n\u001b[0;32m    126\u001b[0m             \u001b[0mb\u001b[0m \u001b[1;33m=\u001b[0m \u001b[0mself\u001b[0m\u001b[1;33m.\u001b[0m\u001b[0ma\u001b[0m\u001b[1;33m*\u001b[0m\u001b[0mself\u001b[0m\u001b[1;33m.\u001b[0m\u001b[0mF0\u001b[0m \u001b[1;33m+\u001b[0m \u001b[0mself\u001b[0m\u001b[1;33m.\u001b[0m\u001b[0mFnorm_CE\u001b[0m\u001b[1;33m/\u001b[0m\u001b[0mself\u001b[0m\u001b[1;33m.\u001b[0m\u001b[0mAf\u001b[0m\u001b[1;33m\u001b[0m\u001b[0m\n\u001b[0;32m    127\u001b[0m \u001b[1;33m\u001b[0m\u001b[0m\n\u001b[1;32m--> 128\u001b[1;33m         \u001b[0mself\u001b[0m\u001b[1;33m.\u001b[0m\u001b[0mLnorm_cedot\u001b[0m \u001b[1;33m=\u001b[0m \u001b[1;33m(\u001b[0m\u001b[1;36m.25\u001b[0m \u001b[1;33m+\u001b[0m \u001b[1;36m.75\u001b[0m\u001b[1;33m*\u001b[0m\u001b[0mself\u001b[0m\u001b[1;33m.\u001b[0m\u001b[0ma\u001b[0m\u001b[1;33m)\u001b[0m\u001b[1;33m*\u001b[0m\u001b[0mself\u001b[0m\u001b[1;33m.\u001b[0m\u001b[0mVmax\u001b[0m\u001b[1;33m*\u001b[0m\u001b[1;33m(\u001b[0m\u001b[1;33m(\u001b[0m\u001b[0mself\u001b[0m\u001b[1;33m.\u001b[0m\u001b[0mFnorm_CE\u001b[0m \u001b[1;33m-\u001b[0m \u001b[0mself\u001b[0m\u001b[1;33m.\u001b[0m\u001b[0ma\u001b[0m\u001b[1;33m*\u001b[0m\u001b[0mself\u001b[0m\u001b[1;33m.\u001b[0m\u001b[0mF0\u001b[0m\u001b[1;33m)\u001b[0m\u001b[1;33m/\u001b[0m\u001b[0mb\u001b[0m\u001b[1;33m)\u001b[0m\u001b[1;33m\u001b[0m\u001b[0m\n\u001b[0m\u001b[0;32m    129\u001b[0m \u001b[1;33m\u001b[0m\u001b[0m\n\u001b[0;32m    130\u001b[0m         \u001b[1;32mreturn\u001b[0m \u001b[0mself\u001b[0m\u001b[1;33m.\u001b[0m\u001b[0mLnorm_cedot\u001b[0m\u001b[1;33m\u001b[0m\u001b[0m\n",
      "\u001b[1;31mTypeError\u001b[0m: unsupported operand type(s) for /: 'float' and 'NoneType'"
     ]
    }
   ],
   "source": [
    "#noise = 1000*np.random.randn(len(t))\n",
    "\n",
    "for i in range(len(t)):\n",
    "    \n",
    "    LmTA =  totalMuscleLength(phi,A_TA)\n",
    "    LmSOL =  totalMuscleLength(phi,A_SO)\n",
    "    \n",
    "    # Controll brain activation\n",
    "    e = phiRef - phi\n",
    "    \n",
    "    if e > 0:\n",
    "        uTA = min(1,kp*e - kd*phid)\n",
    "        uSOL = .01\n",
    "    else:\n",
    "        uTA = .01\n",
    "        uSOL = min(1,-(kp*e - kd*phid))\n",
    "    \n",
    "    \n",
    "    dorsiflexor.updateMuscle(Lm=LmTA, u=uTA)\n",
    "    soleus.updateMuscle(Lm=LmSOL, u=uSOL)\n",
    "  \n",
    "    \n",
    "    #Compute MomentJoint\n",
    "    RfTA = momentArm(phi,B_TA) #moment arm\n",
    "    RfSOL = momentArm(phi,B_SO) #moment arm\n",
    "    \n",
    "    M = momentJoint(RfTA,dorsiflexor.Fnorm_tendon,dorsiflexor.Fmax,RfSOL,soleus.Fnorm_tendon,soleus.Fmax,Rhcm,m,phi)\n",
    "    \n",
    "    #Compute Angular Aceleration Joint\n",
    "    phidd = angularAcelerationJoint(M,Ifoot)\n",
    "    \n",
    "    #Euler integration steps \n",
    "    phid = phid + h*phidd\n",
    "    phi  = phi +h*phid\n",
    "    \n",
    "\n",
    "    # Store variables in vectors - dorsiflexor (Tibialis Anterior)\n",
    "    F[0,i] = dorsiflexor.Fnorm_tendon*dorsiflexor.Fmax\n",
    "    Fkpe[0,i] = dorsiflexor.Fnorm_kpe*dorsiflexor.Fmax\n",
    "    FiberLen[0,i] = dorsiflexor.Lnorm_ce*dorsiflexor.Lce_o\n",
    "    TendonLen[0,i] = dorsiflexor.Lnorm_see*dorsiflexor.Lce_o\n",
    "    a_dynamics[0,i] = dorsiflexor.a\n",
    "    fiberVelocity[0,i] = dorsiflexor.Lnorm_cedot*dorsiflexor.Lce_o\n",
    "    \n",
    "    # Store variables in vectors - soleus\n",
    "    F[1,i] = soleus.Fnorm_tendon*soleus.Fmax\n",
    "    Fkpe[1,i] = soleus.Fnorm_kpe*soleus.Fmax\n",
    "    FiberLen[1,i] = soleus.Lnorm_ce*soleus.Lce_o\n",
    "    TendonLen[1,i] = soleus.Lnorm_see*soleus.Lce_o\n",
    "    a_dynamics[1,i] = soleus.a\n",
    "    fiberVelocity[1,i] = soleus.Lnorm_cedot*soleus.Lce_o\n",
    "    \n",
    "    #joint\n",
    "    phi_dynamics[i] = phi\n",
    "    moment[i] = M"
   ]
  },
  {
   "cell_type": "markdown",
   "metadata": {},
   "source": [
    "## Plots "
   ]
  },
  {
   "cell_type": "code",
   "execution_count": null,
   "metadata": {
    "collapsed": false,
    "scrolled": false
   },
   "outputs": [],
   "source": [
    "fig, ax = plt.subplots(1, 1, figsize=(6,6), sharex=True)\n",
    "\n",
    "ax.plot(t,a_dynamics[0,:],'r',lw=2.5,label='dorsiflexor')\n",
    "ax.plot(t,a_dynamics[1,:],'--b',lw=2,label='soleus')\n",
    "plt.grid()\n",
    "plt.xlabel('time (s)')\n",
    "plt.ylabel('Activation dynamics');\n",
    "ax.legend(loc='best')"
   ]
  },
  {
   "cell_type": "code",
   "execution_count": null,
   "metadata": {
    "collapsed": false
   },
   "outputs": [],
   "source": [
    "fig, ax = plt.subplots(1, 1, figsize=(6,6), sharex=True)\n",
    "\n",
    "ax.plot(t,phi_dynamics*180/np.pi,'purple',lw=2,label='ankle')\n",
    "\n",
    "plt.grid()\n",
    "plt.xlabel('time (s)')\n",
    "plt.ylabel('Joint angle (deg)');\n",
    "ax.legend(loc='best')"
   ]
  },
  {
   "cell_type": "code",
   "execution_count": null,
   "metadata": {
    "collapsed": false,
    "scrolled": false
   },
   "outputs": [],
   "source": [
    "fig, ax = plt.subplots(1, 1, figsize=(6,6), sharex=True)\n",
    "\n",
    "ax.plot(t,F[0,:],'r',lw=2,label='dorsiflexor')\n",
    "ax.plot(t,F[1,:],'--b',lw=2,label='soleus')\n",
    "plt.grid()\n",
    "plt.xlabel('time (s)')\n",
    "plt.ylabel('Force (N)');\n",
    "ax.legend(loc='best')"
   ]
  },
  {
   "cell_type": "code",
   "execution_count": null,
   "metadata": {
    "collapsed": false
   },
   "outputs": [],
   "source": [
    "fig, ax = plt.subplots(1, 1, figsize=(6,6), sharex=True)\n",
    "\n",
    "ax.plot(t,moment,'purple',lw=2,label='ankle')\n",
    "plt.grid()\n",
    "plt.xlabel('time (s)')\n",
    "plt.ylabel('Moment joint');\n",
    "ax.legend(loc='best')"
   ]
  },
  {
   "cell_type": "code",
   "execution_count": null,
   "metadata": {
    "collapsed": false
   },
   "outputs": [],
   "source": [
    "fig, ax = plt.subplots(1, 1, figsize=(6,6), sharex=True)\n",
    "\n",
    "ax.plot(t,fiberVelocity[0,:],'r',lw=2,label='dorsiflexor')\n",
    "ax.plot(t,fiberVelocity[1,:],'--b',lw=2,label='soleus')\n",
    "plt.grid()\n",
    "plt.xlabel('time (s)')\n",
    "plt.ylabel('fiber Velocity (m/s)');\n",
    "ax.legend(loc='best')"
   ]
  },
  {
   "cell_type": "code",
   "execution_count": null,
   "metadata": {
    "collapsed": false,
    "scrolled": false
   },
   "outputs": [],
   "source": [
    "fig, ax = plt.subplots(1, 1, figsize=(6,6), sharex=True)\n",
    "\n",
    "ax.plot(t,FiberLen[0,:],'r',lw=2,label='dorsiflexor fiber')\n",
    "ax.plot(t,TendonLen[0,:],'-.r',lw=2,label='dorsiflexor tendon')\n",
    "\n",
    "ax.plot(t,FiberLen[1,:],'--b',lw=2,label='soleus fiber')\n",
    "ax.plot(t,TendonLen[1,:],':b',lw=2,label='soleus tendon')\n",
    "\n",
    "plt.grid()\n",
    "plt.xlabel('time (s)')\n",
    "plt.ylabel('Length (m)')\n",
    "ax.legend(loc='best')\n",
    "\n",
    "\n",
    "fig, ax = plt.subplots(1, 3, figsize=(9,4), sharex=True, sharey=True)\n",
    "plt.subplots_adjust(wspace=.12, hspace=None,left=None, bottom=None, right=None, top=None,)\n",
    "ax[0].plot(t,FiberLen[0,:],'r',lw=2,label='dorsiflexor')\n",
    "ax[1].plot(t,TendonLen[0,:],'r',lw=2,label='dorsiflexor')\n",
    "ax[2].plot(t,FiberLen[0,:] + TendonLen[0,:],'r',lw=2,label='dorsiflexor')\n",
    "\n",
    "ax[0].plot(t,FiberLen[1,:],'--b',lw=2,label='soleus')\n",
    "ax[1].plot(t,TendonLen[1,:],'--b',lw=2,label='soleus')\n",
    "ax[2].plot(t,FiberLen[1,:] + TendonLen[1,:],'--b',lw=2,label='soleus')\n",
    "\n",
    "ax[1].set_xlabel('time (s)')\n",
    "ax[0].set_ylabel('Length (m)');\n",
    "\n",
    "ax[0].set_title('fiber')\n",
    "ax[1].set_title('tendon')\n",
    "ax[2].set_title('fiber + tendon')\n",
    "\n",
    "\n",
    "ax[0].legend(loc='best')"
   ]
  },
  {
   "cell_type": "code",
   "execution_count": null,
   "metadata": {
    "collapsed": true
   },
   "outputs": [],
   "source": []
  }
 ],
 "metadata": {
  "kernelspec": {
   "display_name": "Python 3",
   "language": "python",
   "name": "python3"
  },
  "language_info": {
   "codemirror_mode": {
    "name": "ipython",
    "version": 3
   },
   "file_extension": ".py",
   "mimetype": "text/x-python",
   "name": "python",
   "nbconvert_exporter": "python",
   "pygments_lexer": "ipython3",
   "version": "3.5.1"
  },
  "latex_envs": {
   "LaTeX_envs_menu_present": true,
   "autoclose": false,
   "autocomplete": true,
   "bibliofile": "biblio.bib",
   "cite_by": "apalike",
   "current_citInitial": 1,
   "eqLabelWithNumbers": true,
   "eqNumInitial": 1,
   "hotkeys": {
    "equation": "Ctrl-E",
    "itemize": "Ctrl-I"
   },
   "labels_anchors": false,
   "latex_user_defs": false,
   "report_style_numbering": false,
   "user_envs_cfg": false
  },
  "nbTranslate": {
   "displayLangs": [
    "*"
   ],
   "hotkey": "alt-t",
   "langInMainMenu": true,
   "sourceLang": "en",
   "targetLang": "fr",
   "useGoogleTranslate": true
  }
 },
 "nbformat": 4,
 "nbformat_minor": 2
}
